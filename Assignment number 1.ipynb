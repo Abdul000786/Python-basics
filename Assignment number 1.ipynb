{
 "cells": [
  {
   "cell_type": "markdown",
   "id": "b1d5399c",
   "metadata": {},
   "source": [
    "##Question no.1\n",
    "\n",
    "In the given elements:\n",
    "\n",
    "1. *: This is an expression representing the multiplication operator.\n",
    "2. 'hello': This is a string value.\n",
    "3. -87.8: This is a floating-point number value.\n",
    "4. -: This is an expression representing the subtraction operator.\n",
    "5. /: This is an expression representing the division operator.\n",
    "6. +: This is an expression representing the addition operator.\n",
    "7. 6: This is an integer value"
   ]
  },
  {
   "cell_type": "markdown",
   "id": "3b592ce9",
   "metadata": {},
   "source": [
    "##Question no.2\n",
    "\n",
    "A string is a data type that represents a sequence of characters enclosed in single quotes (' ') or double quotes (\" \"). It is used to store and manipulate text. A variable, on the other hand, is a name that represents a value stored in the computer's memory. It acts as a container to hold different types of data, including strings. Variables can be assigned values and used to store and retrieve data during the execution of a program."
   ]
  },
  {
   "cell_type": "markdown",
   "id": "80c631ec",
   "metadata": {},
   "source": [
    "##Question no.3\n",
    "\n",
    "Three different data types in Python are:\n",
    "\n",
    "1. Integer (int): Represents whole numbers without decimals, e.g., 10\n",
    "2. Floating-Point Number (float): Represents numbers with decimal points, e.g., 1.1\n",
    "3. String (str): Represents a sequence of characters, e.g., \"ineuron\""
   ]
  },
  {
   "cell_type": "markdown",
   "id": "ef7dde1d",
   "metadata": {},
   "source": [
    "##Question no.4\n",
    "\n",
    "An expression is made up of values, variables, and operators. It can be a combination of literals, variables, and operators that produce a result when evaluated. Expressions can perform mathematical or logical operations, manipulate strings, or evaluate conditions. All expressions in Python produce a value."
   ]
  },
  {
   "cell_type": "markdown",
   "id": "a6289bb6",
   "metadata": {},
   "source": [
    "##Question no.5\n",
    "\n",
    "In the assignment statement spam = 10, spam is a variable that is being assigned the value 10. It is a statement that assigns a value to a variable. An expression, on the other hand, is a piece of code that produces a value. It can be used within a statement or as part of a larger expression."
   ]
  },
  {
   "cell_type": "code",
   "execution_count": 3,
   "id": "f84df5b7",
   "metadata": {},
   "outputs": [
    {
     "data": {
      "text/plain": [
       "22"
      ]
     },
     "execution_count": 3,
     "metadata": {},
     "output_type": "execute_result"
    }
   ],
   "source": [
    "##Question no. 6\n",
    "bacon = 22\n",
    "bacon + 1\n",
    "\n",
    "bacon\n"
   ]
  },
  {
   "cell_type": "markdown",
   "id": "4e8580b6",
   "metadata": {},
   "source": [
    "##Question no.7\n",
    "\n",
    "The values of the following two terms would be:\n",
    "\n",
    "1. 'spam' + 'spamspam': This expression concatenates two strings and results in 'spamspamspam'.\n",
    "2. 'spam' * 3: This expression repeats the string 'spam' three times and results in 'spamspamspam'."
   ]
  },
  {
   "cell_type": "markdown",
   "id": "60b9bfab",
   "metadata": {},
   "source": [
    "##Question no.8\n",
    "\n",
    "In Python, variable names must follow certain rules. They cannot start with a number, and they should not be the same as reserved keywords or built-in functions. The variable name \"test\" is valid because it starts with a letter and does not conflict with any keywords or built-in functions. On the other hand, \"100\" is invalid as a variable name because it starts with a number."
   ]
  },
  {
   "cell_type": "markdown",
   "id": "39427174",
   "metadata": {},
   "source": [
    "##Question no.9\n",
    "\n",
    "Three functions that can be used to convert a value to a specific data type are:\n",
    "\n",
    "1. int(): Converts a value to an integer data type.\n",
    "2. float(): Converts a value to a floating-point number data type.\n",
    "3. str(): Converts a value to a string data type."
   ]
  },
  {
   "cell_type": "code",
   "execution_count": 4,
   "id": "98c6addf",
   "metadata": {},
   "outputs": [
    {
     "data": {
      "text/plain": [
       "'I have eaten 99 burritos.'"
      ]
     },
     "execution_count": 4,
     "metadata": {},
     "output_type": "execute_result"
    }
   ],
   "source": [
    "##Question no.10\n",
    "\n",
    "'I have eaten ' + str(99) + ' burritos.'\n"
   ]
  },
  {
   "cell_type": "code",
   "execution_count": null,
   "id": "74ea7cc8",
   "metadata": {},
   "outputs": [],
   "source": []
  }
 ],
 "metadata": {
  "kernelspec": {
   "display_name": "Python 3 (ipykernel)",
   "language": "python",
   "name": "python3"
  },
  "language_info": {
   "codemirror_mode": {
    "name": "ipython",
    "version": 3
   },
   "file_extension": ".py",
   "mimetype": "text/x-python",
   "name": "python",
   "nbconvert_exporter": "python",
   "pygments_lexer": "ipython3",
   "version": "3.9.13"
  }
 },
 "nbformat": 4,
 "nbformat_minor": 5
}
