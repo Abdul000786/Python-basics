{
 "cells": [
  {
   "cell_type": "markdown",
   "id": "973ed7f2",
   "metadata": {},
   "source": [
    "##Question no.1\n",
    "\n",
    "1. The shutil.copy() function is used to copy a single file from the source location to the destination location. It preserves the original file's metadata, such as timestamps and permissions.\n",
    "2. the shutil.copytree() function is used to recursively copy an entire directory tree from the source directory to the destination directory. It creates a new directory at the destination and copies all the files and subdirectories from the source directory to the corresponding locations in the destination directory."
   ]
  },
  {
   "cell_type": "markdown",
   "id": "b61f8948",
   "metadata": {},
   "source": [
    "##Question no.2\n",
    "\n",
    "1. The os.rename() function is used to rename files in Python. \n",
    "2. It takes two arguments: the current name of the file and the new name you want to assign to it.\n",
    "\n",
    "import os\n",
    "\n",
    "os.rename(\"old_name.txt\", \"new_name.txt\")\n"
   ]
  },
  {
   "cell_type": "markdown",
   "id": "db2c8c75",
   "metadata": {},
   "source": [
    "##Question no.3\n",
    "\n",
    "The delete functions in the send2trash and shutil modules have different behaviors:\n",
    "\n",
    "1. The send2trash.send2trash() function moves files or folders to the operating system's trash or recycle bin, allowing for potential recovery. It sends the items to the trash instead of permanently deleting them. It is useful when you want to delete files or folders but want to avoid permanent deletion.\n",
    "\n",
    "2. The shutil.rmtree() function is used to permanently delete a directory and all its contents. It removes the directory and its contents from the file system entirely. Use this function with caution as the deletion is not reversible."
   ]
  },
  {
   "cell_type": "markdown",
   "id": "d7ce8e3e",
   "metadata": {},
   "source": [
    "##Question no.4\n",
    "\n",
    "The equivalent method in ZipFile objects to the File objects open() method is ZipFile.extract(). It allows you to extract a file from the ZIP archive and save it to the file system.\n",
    "\n"
   ]
  },
  {
   "cell_type": "code",
   "execution_count": 12,
   "id": "75a19069",
   "metadata": {},
   "outputs": [],
   "source": [
    "##Question no.5\n",
    "\n",
    "import os\n",
    "import shutil\n",
    "\n",
    "def copy_files_with_extension(source_folder, destination_folder, extension):\n",
    "    for root, dirs, files in os.walk(source_folder):\n",
    "        for file in files:\n",
    "            if file.endswith(extension):\n",
    "                source_path = os.path.join(root, file)\n",
    "                destination_path = os.path.join(destination_folder, file)\n",
    "                shutil.copy(source_path, destination_path)\n",
    "\n",
    "# Specify the source folder, destination folder, and file extension\n",
    "source_folder = 'source_folder'\n",
    "destination_folder = 'destination_folder'\n",
    "file_extension = '.pdf'\n",
    "\n",
    "# Call the function to copy files with the specified extension\n",
    "copy_files_with_extension(source_folder, destination_folder, file_extension)\n"
   ]
  },
  {
   "cell_type": "code",
   "execution_count": null,
   "id": "d36e2cdc",
   "metadata": {},
   "outputs": [],
   "source": []
  }
 ],
 "metadata": {
  "kernelspec": {
   "display_name": "Python 3 (ipykernel)",
   "language": "python",
   "name": "python3"
  },
  "language_info": {
   "codemirror_mode": {
    "name": "ipython",
    "version": 3
   },
   "file_extension": ".py",
   "mimetype": "text/x-python",
   "name": "python",
   "nbconvert_exporter": "python",
   "pygments_lexer": "ipython3",
   "version": "3.9.13"
  }
 },
 "nbformat": 4,
 "nbformat_minor": 5
}
