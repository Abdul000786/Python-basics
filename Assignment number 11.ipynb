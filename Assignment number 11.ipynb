{
 "cells": [
  {
   "cell_type": "code",
   "execution_count": 16,
   "id": "ce39ec46",
   "metadata": {},
   "outputs": [
    {
     "ename": "AssertionError",
     "evalue": "spam should not be a negative integer",
     "output_type": "error",
     "traceback": [
      "\u001b[1;31m---------------------------------------------------------------------------\u001b[0m",
      "\u001b[1;31mAssertionError\u001b[0m                            Traceback (most recent call last)",
      "\u001b[1;32m~\\AppData\\Local\\Temp\\ipykernel_6976\\1072415551.py\u001b[0m in \u001b[0;36m<module>\u001b[1;34m\u001b[0m\n\u001b[0;32m      3\u001b[0m \u001b[0mspam\u001b[0m \u001b[1;33m=\u001b[0m \u001b[1;33m-\u001b[0m\u001b[1;36m5\u001b[0m  \u001b[1;31m# Assuming spam is defined as a variable\u001b[0m\u001b[1;33m\u001b[0m\u001b[1;33m\u001b[0m\u001b[0m\n\u001b[0;32m      4\u001b[0m \u001b[1;33m\u001b[0m\u001b[0m\n\u001b[1;32m----> 5\u001b[1;33m \u001b[1;32massert\u001b[0m \u001b[0mspam\u001b[0m \u001b[1;33m>=\u001b[0m \u001b[1;36m0\u001b[0m\u001b[1;33m,\u001b[0m \u001b[1;34m\"spam should not be a negative integer\"\u001b[0m\u001b[1;33m\u001b[0m\u001b[1;33m\u001b[0m\u001b[0m\n\u001b[0m\u001b[0;32m      6\u001b[0m \u001b[1;33m\u001b[0m\u001b[0m\n",
      "\u001b[1;31mAssertionError\u001b[0m: spam should not be a negative integer"
     ]
    }
   ],
   "source": [
    "##Question no.1\n",
    "\n",
    "spam = -5  # Assuming spam is defined as a variable\n",
    "\n",
    "assert spam >= 0, \"spam should not be a negative integer\"\n",
    "\n"
   ]
  },
  {
   "cell_type": "code",
   "execution_count": 17,
   "id": "74dea845",
   "metadata": {},
   "outputs": [
    {
     "ename": "AssertionError",
     "evalue": "eggs and bacon should not have the same value",
     "output_type": "error",
     "traceback": [
      "\u001b[1;31m---------------------------------------------------------------------------\u001b[0m",
      "\u001b[1;31mAssertionError\u001b[0m                            Traceback (most recent call last)",
      "\u001b[1;32m~\\AppData\\Local\\Temp\\ipykernel_6976\\4127436263.py\u001b[0m in \u001b[0;36m<module>\u001b[1;34m\u001b[0m\n\u001b[0;32m      3\u001b[0m \u001b[0mbacon\u001b[0m \u001b[1;33m=\u001b[0m \u001b[1;34m\"hello\"\u001b[0m  \u001b[1;31m# Assuming bacon is defined as a variable\u001b[0m\u001b[1;33m\u001b[0m\u001b[1;33m\u001b[0m\u001b[0m\n\u001b[0;32m      4\u001b[0m \u001b[1;33m\u001b[0m\u001b[0m\n\u001b[1;32m----> 5\u001b[1;33m \u001b[1;32massert\u001b[0m \u001b[0meggs\u001b[0m\u001b[1;33m.\u001b[0m\u001b[0mlower\u001b[0m\u001b[1;33m(\u001b[0m\u001b[1;33m)\u001b[0m \u001b[1;33m!=\u001b[0m \u001b[0mbacon\u001b[0m\u001b[1;33m.\u001b[0m\u001b[0mlower\u001b[0m\u001b[1;33m(\u001b[0m\u001b[1;33m)\u001b[0m\u001b[1;33m,\u001b[0m \u001b[1;34m\"eggs and bacon should not have the same value\"\u001b[0m\u001b[1;33m\u001b[0m\u001b[1;33m\u001b[0m\u001b[0m\n\u001b[0m\u001b[0;32m      6\u001b[0m \u001b[1;33m\u001b[0m\u001b[0m\n",
      "\u001b[1;31mAssertionError\u001b[0m: eggs and bacon should not have the same value"
     ]
    }
   ],
   "source": [
    "##Question no.2\n",
    "eggs = \"Hello\"  # Assuming eggs is defined as a variable\n",
    "bacon = \"hello\"  # Assuming bacon is defined as a variable\n",
    "\n",
    "assert eggs.lower() != bacon.lower(), \"eggs and bacon should not have the same value\"\n",
    "\n"
   ]
  },
  {
   "cell_type": "code",
   "execution_count": 18,
   "id": "830591dc",
   "metadata": {},
   "outputs": [
    {
     "ename": "AssertionError",
     "evalue": "This assert statement always triggers an AssertionError",
     "output_type": "error",
     "traceback": [
      "\u001b[1;31m---------------------------------------------------------------------------\u001b[0m",
      "\u001b[1;31mAssertionError\u001b[0m                            Traceback (most recent call last)",
      "\u001b[1;32m~\\AppData\\Local\\Temp\\ipykernel_6976\\252698581.py\u001b[0m in \u001b[0;36m<module>\u001b[1;34m\u001b[0m\n\u001b[0;32m      1\u001b[0m \u001b[1;31m##Question no.3\u001b[0m\u001b[1;33m\u001b[0m\u001b[1;33m\u001b[0m\u001b[0m\n\u001b[1;32m----> 2\u001b[1;33m \u001b[1;32massert\u001b[0m \u001b[1;32mFalse\u001b[0m\u001b[1;33m,\u001b[0m \u001b[1;34m\"This assert statement always triggers an AssertionError\"\u001b[0m\u001b[1;33m\u001b[0m\u001b[1;33m\u001b[0m\u001b[0m\n\u001b[0m",
      "\u001b[1;31mAssertionError\u001b[0m: This assert statement always triggers an AssertionError"
     ]
    }
   ],
   "source": [
    "##Question no.3\n",
    "assert False, \"This assert statement always triggers an AssertionError\"\n"
   ]
  },
  {
   "cell_type": "code",
   "execution_count": 19,
   "id": "c3c81ff8",
   "metadata": {},
   "outputs": [],
   "source": [
    "##Question no.4\n",
    "\n",
    "import logging\n",
    "logging.basicConfig()\n"
   ]
  },
  {
   "cell_type": "code",
   "execution_count": 20,
   "id": "18272c89",
   "metadata": {},
   "outputs": [],
   "source": [
    "##Question no.5\n",
    "\n",
    "import logging\n",
    "logging.basicConfig(filename='programLog.txt', level=logging.DEBUG)\n"
   ]
  },
  {
   "cell_type": "markdown",
   "id": "8e8f5ede",
   "metadata": {},
   "source": [
    "##Question no.6\n",
    "\n",
    "The five levels of logging, from lowest to highest severity, are:\n",
    "\n",
    "1. DEBUG\n",
    "2. INFO\n",
    "3. WARNING\n",
    "4. ERROR\n",
    "5. CRITICAL"
   ]
  },
  {
   "cell_type": "code",
   "execution_count": 22,
   "id": "a3c823e5",
   "metadata": {},
   "outputs": [],
   "source": [
    "##Question no.7\n",
    "import logging \n",
    "logging.disable(logging.CRITICAL)\n"
   ]
  },
  {
   "cell_type": "markdown",
   "id": "d4da64e1",
   "metadata": {},
   "source": [
    "##Question no.8\n",
    "\n",
    "Using logging messages is better than using print() to display the same message because logging provides more flexibility and control. With logging, you can easily enable or disable different levels of messages, redirect messages to different outputs (e.g., file, console), and format the messages in a desired way."
   ]
  },
  {
   "cell_type": "markdown",
   "id": "885ab0b1",
   "metadata": {},
   "source": [
    "##Question no.9\n",
    "\n",
    "The differences between the Step Over, Step In, and Step Out buttons in the debugger are as follows:\n",
    "\n",
    "1. Step Over: Executes the current line and moves to the next line in the current function. If there is a function call, it will not step into the function and instead execute the whole function at once.\n",
    "2. Step In: If there is a function call on the current line, it will step into the function and pause at the first line inside that function.\n",
    "3. Step Out: Steps out of the current function and continues execution until the line after the function call that led to the current function."
   ]
  },
  {
   "cell_type": "markdown",
   "id": "1b2bfb31",
   "metadata": {},
   "source": [
    "##Question no.10\n",
    "\n",
    "After clicking Continue, the debugger will stop when it encounters the next breakpoint or reaches the end of the program."
   ]
  },
  {
   "cell_type": "markdown",
   "id": "5903644e",
   "metadata": {},
   "source": [
    "##Question no.11\n",
    "\n",
    "A breakpoint is a designated point in the code where the debugger will pause execution, allowing you to inspect the program's state at that particular moment. It helps in debugging by allowing you to examine variables, step through the code, and identify issues at specific locations."
   ]
  },
  {
   "cell_type": "code",
   "execution_count": null,
   "id": "dc119853",
   "metadata": {},
   "outputs": [],
   "source": []
  }
 ],
 "metadata": {
  "kernelspec": {
   "display_name": "Python 3 (ipykernel)",
   "language": "python",
   "name": "python3"
  },
  "language_info": {
   "codemirror_mode": {
    "name": "ipython",
    "version": 3
   },
   "file_extension": ".py",
   "mimetype": "text/x-python",
   "name": "python",
   "nbconvert_exporter": "python",
   "pygments_lexer": "ipython3",
   "version": "3.9.13"
  }
 },
 "nbformat": 4,
 "nbformat_minor": 5
}
