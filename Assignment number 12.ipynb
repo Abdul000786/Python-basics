{
 "cells": [
  {
   "cell_type": "markdown",
   "id": "725bdc84",
   "metadata": {},
   "source": [
    "##Question no.1\n",
    "\n",
    "The PdfFileReader() and PdfFileWriter() file objects should be opened in the following modes:\n",
    "\n",
    "1. PdfFileReader(): Open the PDF file in binary mode by using 'rb'.\n",
    "2. PdfFileWriter(): Open the PDF file in binary mode by using 'wb'."
   ]
  },
  {
   "cell_type": "markdown",
   "id": "d4b18d2b",
   "metadata": {},
   "source": [
    "##Question no.2\n",
    "\n",
    "1. page_number = 4  # Page 5 (0-based index)\n",
    "2. page_object = pdf_reader.getPage(page_number)\n"
   ]
  },
  {
   "cell_type": "markdown",
   "id": "505a790f",
   "metadata": {},
   "source": [
    "##Question no.3\n",
    "\n",
    "The number of pages in a PDF document is stored in the numPages attribute of the PdfFileReader object. You can access it using:\n",
    "\n",
    "num_pages = pdf_reader.numPages\n"
   ]
  },
  {
   "cell_type": "markdown",
   "id": "b74aeb65",
   "metadata": {},
   "source": [
    "##Question no.4\n",
    "\n",
    "If a PdfFileReader object's PDF is encrypted with the password \"swordfish\", you need to decrypt it by calling the decrypt() method and passing the password as an argument before obtaining the Page objects. "
   ]
  },
  {
   "cell_type": "markdown",
   "id": "26888bae",
   "metadata": {},
   "source": [
    "##Question no.5\n",
    "\n",
    "To rotate a page in PyPDF2, you can use the rotateClockwise() or rotateCounterClockwise() methods of the Page object. Here's an example to rotate a page 90 degrees clockwise:\n",
    "\n",
    "1. page_number = 0  # Assuming page 1 (0-based index)\n",
    "2. page = pdf_reader.getPage(page_number)\n",
    "3. page.rotateClockwise(90)\n"
   ]
  },
  {
   "cell_type": "markdown",
   "id": "7dc293e2",
   "metadata": {},
   "source": [
    "##Question no.6\n",
    "\n",
    "In the context of Python-docx library (working with Word documents):\n",
    "\n",
    "1. A Run object represents a contiguous run of text with the same style within a paragraph. It can have different formatting properties like font size, color, etc.\n",
    "2. A Paragraph object represents a paragraph in a document. It contains one or more Run objects and represents a block of text with common formatting."
   ]
  },
  {
   "cell_type": "markdown",
   "id": "6c0a14ce",
   "metadata": {},
   "source": [
    "##Question no.7\n",
    "\n",
    "To obtain a list of Paragraph objects for a Document object stored in a variable named doc, you can use the paragraphs\n",
    "1. paragraphs_list = doc.paragraphs\n"
   ]
  },
  {
   "cell_type": "markdown",
   "id": "478ea1e7",
   "metadata": {},
   "source": [
    "##Question no.8\n",
    "\n",
    "The Run object has bold, underline, italic, strike, and outline variables. These variables represent the formatting properties of the run of text.\n",
    "\n"
   ]
  },
  {
   "cell_type": "markdown",
   "id": "8320890c",
   "metadata": {},
   "source": [
    "##Question no.9\n",
    "\n",
    "In the context of formatting properties (bold, underline, italic, strike, and outline) of a Run object:\n",
    "\n",
    "1. True: The formatting property is enabled or active.\n",
    "2. False: The formatting property is disabled or inactive.\n",
    "3. None: The formatting property is not explicitly set, and its value may be inherited from a style or another source."
   ]
  },
  {
   "cell_type": "code",
   "execution_count": 23,
   "id": "834f92a3",
   "metadata": {},
   "outputs": [
    {
     "name": "stdout",
     "output_type": "stream",
     "text": [
      "Requirement already satisfied: python-docx in c:\\programdata\\anaconda3\\lib\\site-packages (0.8.11)\n",
      "Requirement already satisfied: lxml>=2.3.2 in c:\\programdata\\anaconda3\\lib\\site-packages (from python-docx) (4.9.1)\n",
      "Document created successfully.\n",
      "<docx.document.Document object at 0x000001ED135EA040>\n"
     ]
    },
    {
     "name": "stderr",
     "output_type": "stream",
     "text": [
      "\n",
      "[notice] A new release of pip is available: 23.0.1 -> 23.1.2\n",
      "[notice] To update, run: python.exe -m pip install --upgrade pip\n"
     ]
    }
   ],
   "source": [
    "##Question no.10\n",
    "\n",
    "\n",
    "!pip install python-docx\n",
    "from docx import Document\n",
    "doc = Document()\n",
    "if doc:\n",
    "    print(\"Document created successfully.\")\n",
    "\n",
    "print(doc)\n"
   ]
  },
  {
   "cell_type": "markdown",
   "id": "27603c94",
   "metadata": {},
   "source": [
    "##Question no.11\n",
    "\n",
    "To add a paragraph with the text 'Hello, there!' to a Document object stored in a variable named doc, you can use the add_paragraph() method."
   ]
  },
  {
   "cell_type": "markdown",
   "id": "60e517db",
   "metadata": {},
   "source": [
    "##Question no.12\n",
    "\n",
    "In Word documents, the integers 1 to 9 represent the levels of headings available. These levels correspond to the different heading styles in Word, such as Heading 1, Heading 2, and so on."
   ]
  },
  {
   "cell_type": "code",
   "execution_count": null,
   "id": "6bc0b88a",
   "metadata": {},
   "outputs": [],
   "source": []
  }
 ],
 "metadata": {
  "kernelspec": {
   "display_name": "Python 3 (ipykernel)",
   "language": "python",
   "name": "python3"
  },
  "language_info": {
   "codemirror_mode": {
    "name": "ipython",
    "version": 3
   },
   "file_extension": ".py",
   "mimetype": "text/x-python",
   "name": "python",
   "nbconvert_exporter": "python",
   "pygments_lexer": "ipython3",
   "version": "3.9.13"
  }
 },
 "nbformat": 4,
 "nbformat_minor": 5
}
