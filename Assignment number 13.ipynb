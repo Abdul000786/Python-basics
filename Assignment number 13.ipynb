{
 "cells": [
  {
   "cell_type": "markdown",
   "id": "6b15b42f",
   "metadata": {},
   "source": [
    "##Question no.1\n",
    "\n",
    "Advantages of Excel spreadsheets over CSV spreadsheets:\n",
    "\n",
    "1. Excel spreadsheets support formatting options such as font styles, colors, cell merging, and formulas, whereas CSV files only store raw data without any formatting.\n",
    "2. Excel spreadsheets can contain multiple sheets within a single file, allowing for better organization and separation of data.\n",
    "3. Excel spreadsheets have built-in support for charts, graphs, and other visual representations of data.\n",
    "4. Excel spreadsheets can have password protection and access restrictions, providing security for sensitive data."
   ]
  },
  {
   "cell_type": "code",
   "execution_count": 3,
   "id": "b220bd1b",
   "metadata": {},
   "outputs": [],
   "source": [
    "##Question no.2\n",
    "import csv\n",
    "\n",
    "\n",
    "with open('data.csv', 'r') as file:\n",
    "    reader = csv.reader(file)\n",
    "\n",
    "with open('output.csv', 'w') as file:\n",
    "    writer = csv.writer(file)"
   ]
  },
  {
   "cell_type": "markdown",
   "id": "198e5444",
   "metadata": {},
   "source": [
    "##Question no.3 \n",
    "\n",
    "file objects for reader and writer objects need to be opened in the following modes:\n",
    "\n",
    "1. Reader object: Open the file in text mode with 'r' or 'rt'.\n",
    "2. Writer object: Open the file in text mode with 'w' or 'wt'"
   ]
  },
  {
   "cell_type": "code",
   "execution_count": 12,
   "id": "c9892e4f",
   "metadata": {},
   "outputs": [
    {
     "name": "stdout",
     "output_type": "stream",
     "text": [
      "['John', 'Doe', 'john.doe@example.com']\n"
     ]
    }
   ],
   "source": [
    "##Question no.4\n",
    "\n",
    "import csv\n",
    "\n",
    "row = ['John', 'Doe', 'john.doe@example.com']\n",
    "\n",
    "with open('data.csv', 'w', newline='') as file:\n",
    "    writer = csv.writer(file)\n",
    "\n",
    "    writer.writerow(row)\n",
    "\n",
    "with open('data.csv', 'r') as file:\n",
    "    reader = csv.reader(file)\n",
    "\n",
    "    for row in reader:\n",
    "        print(row)\n",
    "\n",
    "\n"
   ]
  },
  {
   "cell_type": "code",
   "execution_count": 13,
   "id": "c629a26c",
   "metadata": {},
   "outputs": [],
   "source": [
    "##Question no.5\n",
    "\n",
    "import csv\n",
    "\n",
    "with open('data.csv', 'w', newline='') as file:\n",
    "    writer = csv.writer(file, delimiter=';', lineterminator='\\r\\n')\n",
    "    \n"
   ]
  },
  {
   "cell_type": "code",
   "execution_count": 14,
   "id": "43182c6d",
   "metadata": {},
   "outputs": [],
   "source": [
    "##Question no.6\n",
    "\n",
    "import json\n",
    "\n",
    "json_data = '{\"name\": \"John\", \"age\": 30, \"city\": \"New York\"}'\n",
    "python_data = json.loads(json_data)\n"
   ]
  },
  {
   "cell_type": "code",
   "execution_count": 15,
   "id": "24345c11",
   "metadata": {},
   "outputs": [],
   "source": [
    "##Question no.7\n",
    "\n",
    "import json\n",
    "\n",
    "python_data = {\"name\": \"John\", \"age\": 30, \"city\": \"New York\"}\n",
    "json_data = json.dumps(python_data)\n"
   ]
  },
  {
   "cell_type": "code",
   "execution_count": null,
   "id": "2fd8d8ab",
   "metadata": {},
   "outputs": [],
   "source": []
  }
 ],
 "metadata": {
  "kernelspec": {
   "display_name": "Python 3 (ipykernel)",
   "language": "python",
   "name": "python3"
  },
  "language_info": {
   "codemirror_mode": {
    "name": "ipython",
    "version": 3
   },
   "file_extension": ".py",
   "mimetype": "text/x-python",
   "name": "python",
   "nbconvert_exporter": "python",
   "pygments_lexer": "ipython3",
   "version": "3.9.13"
  }
 },
 "nbformat": 4,
 "nbformat_minor": 5
}
