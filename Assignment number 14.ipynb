{
 "cells": [
  {
   "cell_type": "markdown",
   "id": "d819ffd9",
   "metadata": {},
   "source": [
    "##Question no. 1\n",
    "\n",
    "RGBA stands for Red, Green, Blue, and Alpha. It is a color model used to represent colors in digital images and computer graphics. The RGBA model adds an alpha channel to the RGB model, which represents the transparency or opacity of the color."
   ]
  },
  {
   "cell_type": "code",
   "execution_count": 3,
   "id": "d467b9f1",
   "metadata": {},
   "outputs": [
    {
     "name": "stdout",
     "output_type": "stream",
     "text": [
      "(1, 11, 23)\n"
     ]
    }
   ],
   "source": [
    "##Question no.2\n",
    "\n",
    "from PIL import Image\n",
    "\n",
    "image = Image.open('image.jpeg')\n",
    "\n",
    "x = 100  \n",
    "y = 200  \n",
    "rgba_value = image.getpixel((x, y))\n",
    "\n",
    "print(rgba_value)\n",
    "\n"
   ]
  },
  {
   "cell_type": "markdown",
   "id": "f991a8d7",
   "metadata": {},
   "source": [
    "##Question no.3 \n",
    "\n",
    "A box tuple is a tuple that represents a rectangular region within an image. It consists of four values: (left, upper, right, lower). The (left, upper) coordinates represent the top-left corner of the region, and the (right, lower) coordinates represent the bottom-right corner of the region.\n",
    "The box tuple is used in various methods of the Pillow module, such as cropping, resizing, and extracting regions of an image. By specifying the box tuple, you can define the portion of the image to be manipulated."
   ]
  },
  {
   "cell_type": "code",
   "execution_count": 4,
   "id": "7beb60c5",
   "metadata": {},
   "outputs": [
    {
     "name": "stdout",
     "output_type": "stream",
     "text": [
      "Width: 728, Height: 409\n"
     ]
    }
   ],
   "source": [
    "##Question no.4\n",
    "\n",
    "from PIL import Image\n",
    "\n",
    "image = Image.open('image.jpeg')\n",
    "width, height = image.size\n",
    "\n",
    "print(f\"Width: {width}, Height: {height}\")\n"
   ]
  },
  {
   "cell_type": "code",
   "execution_count": 5,
   "id": "5926fc37",
   "metadata": {},
   "outputs": [
    {
     "name": "stdout",
     "output_type": "stream",
     "text": [
      "Width: 50, Height: 50\n"
     ]
    }
   ],
   "source": [
    "##Question no.5\n",
    "\n",
    "from PIL import Image\n",
    "\n",
    "image = Image.open('image.jpeg')\n",
    "cropped_image = image.crop((0, 0, 50, 50))\n",
    "\n",
    "# Verify the size of the cropped image\n",
    "width, height = cropped_image.size\n",
    "print(f\"Width: {width}, Height: {height}\")\n"
   ]
  },
  {
   "cell_type": "code",
   "execution_count": 6,
   "id": "e59355a6",
   "metadata": {},
   "outputs": [],
   "source": [
    "##Question no.6\n",
    "\n",
    "from PIL import Image\n",
    "\n",
    "image = Image.open('image.jpeg')\n",
    "\n",
    "# Make changes to the image...\n",
    "\n",
    "# Save the modified image\n",
    "image.save('modified.jpeg')\n"
   ]
  },
  {
   "cell_type": "code",
   "execution_count": 7,
   "id": "9a574622",
   "metadata": {},
   "outputs": [],
   "source": [
    "##Question no.7\n",
    "\n",
    "from PIL import ImageDraw\n"
   ]
  },
  {
   "cell_type": "code",
   "execution_count": 10,
   "id": "e122e1f7",
   "metadata": {},
   "outputs": [
    {
     "name": "stdout",
     "output_type": "stream",
     "text": [
      "<PIL.ImageDraw.ImageDraw object at 0x000001F12E8A6CD0>\n"
     ]
    }
   ],
   "source": [
    "##Question no.8\n",
    "\n",
    "from PIL import Image, ImageDraw\n",
    "\n",
    "image = Image.open('image.jpeg')\n",
    "draw = ImageDraw.Draw(image)\n",
    "\n",
    "print(draw)\n"
   ]
  },
  {
   "cell_type": "code",
   "execution_count": null,
   "id": "6fe5523a",
   "metadata": {},
   "outputs": [],
   "source": [
    "\n"
   ]
  },
  {
   "cell_type": "code",
   "execution_count": null,
   "id": "ddba7001",
   "metadata": {},
   "outputs": [],
   "source": []
  }
 ],
 "metadata": {
  "kernelspec": {
   "display_name": "Python 3 (ipykernel)",
   "language": "python",
   "name": "python3"
  },
  "language_info": {
   "codemirror_mode": {
    "name": "ipython",
    "version": 3
   },
   "file_extension": ".py",
   "mimetype": "text/x-python",
   "name": "python",
   "nbconvert_exporter": "python",
   "pygments_lexer": "ipython3",
   "version": "3.9.13"
  }
 },
 "nbformat": 4,
 "nbformat_minor": 5
}
