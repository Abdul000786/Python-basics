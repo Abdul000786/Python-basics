{
 "cells": [
  {
   "cell_type": "code",
   "execution_count": 8,
   "id": "4638a893",
   "metadata": {},
   "outputs": [
    {
     "name": "stdout",
     "output_type": "stream",
     "text": [
      "3600\n"
     ]
    }
   ],
   "source": [
    "##Question no.1\n",
    "\n",
    "seconds_in_minute = 60\n",
    "seconds_in_hour = seconds_in_minute * 60\n",
    "print(seconds_in_hour)\n"
   ]
  },
  {
   "cell_type": "code",
   "execution_count": 10,
   "id": "3719861c",
   "metadata": {},
   "outputs": [
    {
     "name": "stdout",
     "output_type": "stream",
     "text": [
      "3600\n"
     ]
    }
   ],
   "source": [
    "##Question no.2\n",
    "\n",
    "seconds_per_hour = seconds_in_hour\n",
    "print(seconds_per_hour)\n"
   ]
  },
  {
   "cell_type": "code",
   "execution_count": 11,
   "id": "7a9bec03",
   "metadata": {},
   "outputs": [
    {
     "name": "stdout",
     "output_type": "stream",
     "text": [
      "5184000\n"
     ]
    }
   ],
   "source": [
    "##Question no.3\n",
    "\n",
    "minutes_per_hour = 60\n",
    "hours_per_day = 24\n",
    "seconds_per_day = seconds_per_hour * minutes_per_hour * hours_per_day\n",
    "print(seconds_per_day)\n"
   ]
  },
  {
   "cell_type": "code",
   "execution_count": 13,
   "id": "430e390d",
   "metadata": {},
   "outputs": [
    {
     "name": "stdout",
     "output_type": "stream",
     "text": [
      "5184000\n"
     ]
    }
   ],
   "source": [
    "##Question no.4\n",
    "\n",
    "seconds_per_day = seconds_per_hour * minutes_per_hour * hours_per_day\n",
    "print(seconds_per_day)\n"
   ]
  },
  {
   "cell_type": "code",
   "execution_count": 14,
   "id": "69acc39d",
   "metadata": {},
   "outputs": [
    {
     "name": "stdout",
     "output_type": "stream",
     "text": [
      "1440.0\n"
     ]
    }
   ],
   "source": [
    "##Question no.5\n",
    "\n",
    "floating_point_division = seconds_per_day / seconds_per_hour\n",
    "print(floating_point_division)\n"
   ]
  },
  {
   "cell_type": "code",
   "execution_count": 15,
   "id": "ef7aed14",
   "metadata": {},
   "outputs": [
    {
     "name": "stdout",
     "output_type": "stream",
     "text": [
      "1440\n"
     ]
    }
   ],
   "source": [
    "##Question no.6\n",
    "\n",
    "integer_division = seconds_per_day // seconds_per_hour\n",
    "print(integer_division)\n"
   ]
  },
  {
   "cell_type": "code",
   "execution_count": 16,
   "id": "07a9fc51",
   "metadata": {},
   "outputs": [
    {
     "name": "stdout",
     "output_type": "stream",
     "text": [
      "2\n",
      "3\n",
      "5\n",
      "7\n",
      "11\n"
     ]
    }
   ],
   "source": [
    "##Question no.7\n",
    "\n",
    "def genPrimes():\n",
    "    primes = []\n",
    "    num = 2\n",
    "\n",
    "    while True:\n",
    "        is_prime = True\n",
    "        for prime in primes:\n",
    "            if num % prime == 0:\n",
    "                is_prime = False\n",
    "                break\n",
    "        if is_prime:\n",
    "            primes.append(num)\n",
    "            yield num\n",
    "        num += 1\n",
    "\n",
    "\n",
    "primes_generator = genPrimes()\n",
    "\n",
    "\n",
    "print(next(primes_generator))  \n",
    "print(next(primes_generator))  \n",
    "print(next(primes_generator))  \n",
    "print(next(primes_generator))  \n",
    "print(next(primes_generator))  \n"
   ]
  },
  {
   "cell_type": "code",
   "execution_count": null,
   "id": "c117c908",
   "metadata": {},
   "outputs": [],
   "source": []
  }
 ],
 "metadata": {
  "kernelspec": {
   "display_name": "Python 3 (ipykernel)",
   "language": "python",
   "name": "python3"
  },
  "language_info": {
   "codemirror_mode": {
    "name": "ipython",
    "version": 3
   },
   "file_extension": ".py",
   "mimetype": "text/x-python",
   "name": "python",
   "nbconvert_exporter": "python",
   "pygments_lexer": "ipython3",
   "version": "3.9.13"
  }
 },
 "nbformat": 4,
 "nbformat_minor": 5
}
