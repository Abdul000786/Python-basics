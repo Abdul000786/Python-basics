{
 "cells": [
  {
   "cell_type": "code",
   "execution_count": 19,
   "id": "e944ec94",
   "metadata": {},
   "outputs": [
    {
     "name": "stdout",
     "output_type": "stream",
     "text": [
      "[1990, 1991, 1992, 1993, 1994, 1995]\n"
     ]
    }
   ],
   "source": [
    "##Question no.1\n",
    "\n",
    "\n",
    "birth_year = 1990\n",
    "years_list = list(range(birth_year, birth_year + 6))\n",
    "print(years_list)\n"
   ]
  },
  {
   "cell_type": "code",
   "execution_count": 20,
   "id": "f01d5fda",
   "metadata": {},
   "outputs": [
    {
     "name": "stdout",
     "output_type": "stream",
     "text": [
      "1993\n"
     ]
    }
   ],
   "source": [
    "##Question no.2\n",
    "\n",
    "third_birthday_year = birth_year + 3\n",
    "print(third_birthday_year)\n"
   ]
  },
  {
   "cell_type": "code",
   "execution_count": 21,
   "id": "e6910473",
   "metadata": {},
   "outputs": [
    {
     "name": "stdout",
     "output_type": "stream",
     "text": [
      "1995\n"
     ]
    }
   ],
   "source": [
    "##Question no.3\n",
    "\n",
    "oldest_year = max(years_list)\n",
    "print(oldest_year)\n"
   ]
  },
  {
   "cell_type": "code",
   "execution_count": 25,
   "id": "7b0a0789",
   "metadata": {},
   "outputs": [
    {
     "name": "stdout",
     "output_type": "stream",
     "text": [
      "['mozzarella', 'cinderella', 'salmonella']\n"
     ]
    }
   ],
   "source": [
    "##Question no.4\n",
    "\n",
    "things = [\"mozzarella\", \"cinderella\", \"salmonella\"]\n",
    "print(things)\n"
   ]
  },
  {
   "cell_type": "code",
   "execution_count": 26,
   "id": "68cff586",
   "metadata": {},
   "outputs": [
    {
     "name": "stdout",
     "output_type": "stream",
     "text": [
      "['mozzarella', 'Cinderella', 'salmonella']\n"
     ]
    }
   ],
   "source": [
    "##Question no.5\n",
    "things[1] = things[1].capitalize()\n",
    "print(things)\n",
    "#no it didn't \n"
   ]
  },
  {
   "cell_type": "code",
   "execution_count": 27,
   "id": "a791b61f",
   "metadata": {},
   "outputs": [
    {
     "name": "stdout",
     "output_type": "stream",
     "text": [
      "['Groucho', 'Chico', 'Harpo']\n"
     ]
    }
   ],
   "source": [
    "##Question no.6\n",
    "surprise = [\"Groucho\", \"Chico\", \"Harpo\"]\n",
    "print(surprise)\n"
   ]
  },
  {
   "cell_type": "code",
   "execution_count": 28,
   "id": "4dae80b0",
   "metadata": {},
   "outputs": [
    {
     "name": "stdout",
     "output_type": "stream",
     "text": [
      "['Groucho', 'Chico', 'Oprah']\n"
     ]
    }
   ],
   "source": [
    "##Question no.7\n",
    "\n",
    "surprise[-1] = surprise[-1].lower()[::-1].capitalize()\n",
    "print(surprise)\n"
   ]
  },
  {
   "cell_type": "code",
   "execution_count": 29,
   "id": "8c6794ad",
   "metadata": {},
   "outputs": [
    {
     "name": "stdout",
     "output_type": "stream",
     "text": [
      "{'dog': 'chien', 'cat': 'chat', 'walrus': 'morse'}\n"
     ]
    }
   ],
   "source": [
    "##Question no.8\n",
    "\n",
    "d = {\"dog\": \"chien\", \"cat\": \"chat\", \"walrus\": \"morse\"}\n",
    "print(d)\n"
   ]
  },
  {
   "cell_type": "code",
   "execution_count": 31,
   "id": "1c100905",
   "metadata": {},
   "outputs": [
    {
     "name": "stdout",
     "output_type": "stream",
     "text": [
      "morse\n"
     ]
    }
   ],
   "source": [
    "##Question no.9\n",
    "\n",
    "french_word_for_walrus = d[\"walrus\"]\n",
    "print(french_word_for_walrus)\n"
   ]
  },
  {
   "cell_type": "code",
   "execution_count": 36,
   "id": "9e33a678",
   "metadata": {},
   "outputs": [
    {
     "name": "stdout",
     "output_type": "stream",
     "text": [
      "{'chien': 'dog', 'chat': 'cat', 'morse': 'walrus'}\n"
     ]
    }
   ],
   "source": [
    "##Question no.10\n",
    "\n",
    "e = {value: key for key, value in d.items()}\n",
    "print(e)\n"
   ]
  },
  {
   "cell_type": "code",
   "execution_count": 37,
   "id": "aded4282",
   "metadata": {},
   "outputs": [
    {
     "name": "stdout",
     "output_type": "stream",
     "text": [
      "dog\n"
     ]
    }
   ],
   "source": [
    "##Question no.11\n",
    "\n",
    "english_word_for_chien = e[\"chien\"]\n",
    "print(english_word_for_chien)\n"
   ]
  },
  {
   "cell_type": "code",
   "execution_count": 38,
   "id": "c9e13aef",
   "metadata": {},
   "outputs": [
    {
     "name": "stdout",
     "output_type": "stream",
     "text": [
      "{'chien', 'chat', 'morse'}\n"
     ]
    }
   ],
   "source": [
    "##Question no.12\n",
    "\n",
    "english_words = set(e.keys())\n",
    "print(english_words)\n"
   ]
  },
  {
   "cell_type": "code",
   "execution_count": 39,
   "id": "61aef732",
   "metadata": {},
   "outputs": [
    {
     "name": "stdout",
     "output_type": "stream",
     "text": [
      "{'animals': {'cats': ['Henri', 'Grumpy', 'Lucy'], 'octopi': {}, 'emus': {}}, 'plants': {}, 'other': {}}\n"
     ]
    }
   ],
   "source": [
    "##Question no.13\n",
    "\n",
    "life = {\n",
    "    'animals': {\n",
    "        'cats': ['Henri', 'Grumpy', 'Lucy'],\n",
    "        'octopi': {},\n",
    "        'emus': {}\n",
    "    },\n",
    "    'plants': {},\n",
    "    'other': {}\n",
    "}\n",
    "print(life)\n"
   ]
  },
  {
   "cell_type": "code",
   "execution_count": 40,
   "id": "adad14a9",
   "metadata": {},
   "outputs": [
    {
     "name": "stdout",
     "output_type": "stream",
     "text": [
      "dict_keys(['animals', 'plants', 'other'])\n"
     ]
    }
   ],
   "source": [
    "##Question no.14\n",
    "\n",
    "top_level_keys = life.keys()\n",
    "print(top_level_keys)\n"
   ]
  },
  {
   "cell_type": "code",
   "execution_count": 41,
   "id": "46a3f700",
   "metadata": {},
   "outputs": [
    {
     "name": "stdout",
     "output_type": "stream",
     "text": [
      "dict_keys(['cats', 'octopi', 'emus'])\n"
     ]
    }
   ],
   "source": [
    "##Question no.15\n",
    "\n",
    "animal_keys = life['animals'].keys()\n",
    "print(animal_keys)\n"
   ]
  },
  {
   "cell_type": "code",
   "execution_count": 42,
   "id": "cdc5e007",
   "metadata": {},
   "outputs": [
    {
     "name": "stdout",
     "output_type": "stream",
     "text": [
      "['Henri', 'Grumpy', 'Lucy']\n"
     ]
    }
   ],
   "source": [
    "##Question no.16\n",
    "\n",
    "cat_values = life['animals']['cats']\n",
    "print(cat_values)\n"
   ]
  },
  {
   "cell_type": "code",
   "execution_count": null,
   "id": "1a55d89f",
   "metadata": {},
   "outputs": [],
   "source": []
  }
 ],
 "metadata": {
  "kernelspec": {
   "display_name": "Python 3 (ipykernel)",
   "language": "python",
   "name": "python3"
  },
  "language_info": {
   "codemirror_mode": {
    "name": "ipython",
    "version": 3
   },
   "file_extension": ".py",
   "mimetype": "text/x-python",
   "name": "python",
   "nbconvert_exporter": "python",
   "pygments_lexer": "ipython3",
   "version": "3.9.13"
  }
 },
 "nbformat": 4,
 "nbformat_minor": 5
}
