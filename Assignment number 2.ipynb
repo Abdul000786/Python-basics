{
 "cells": [
  {
   "cell_type": "markdown",
   "id": "2adef531",
   "metadata": {},
   "source": [
    "##Question no.1\n",
    "\n",
    "The two values of the Boolean data type are True and False. They are written exactly as shown, with the first letter capitalized."
   ]
  },
  {
   "cell_type": "markdown",
   "id": "c96f1f08",
   "metadata": {},
   "source": [
    "##Question no.2\n",
    "\n",
    "The three different types of Boolean operators are:\n",
    "\n",
    "1. \"and\" operator: Returns True if both operands are True, otherwise returns False.\n",
    "2. \"or\" operator: Returns True if at least one of the operands is True, otherwise returns False.\n",
    "3. \"not\" operator: Returns the opposite of the operand's value. If the operand is True, \"not\" returns False, and if the operand is False, \"not\" returns True."
   ]
  },
  {
   "cell_type": "markdown",
   "id": "49c49efa",
   "metadata": {},
   "source": [
    "##Question no.3\n",
    "\n",
    "1. \"and\" operator:\n",
    "\n",
    " False  False = False \n",
    " False  True = False \n",
    " True  False = False \n",
    " True  True = True \n",
    "\n",
    "2. \"or\" operator:\n",
    "\n",
    " False  False = False \n",
    " False  True = True \n",
    " True  False = True \n",
    " True  True = True \n",
    "\n",
    "3. \"not\" operator:\n",
    "\n",
    " False  True \n",
    " True  False "
   ]
  },
  {
   "cell_type": "markdown",
   "id": "204abd8e",
   "metadata": {},
   "source": [
    "##Question no.4\n",
    "\n",
    "The values of the given expressions are:\n",
    "\n",
    "1. (5 > 4) and (3 == 5) -> False\n",
    "2. not (5 > 4) -> False\n",
    "3. (5 > 4) or (3 == 5) -> True\n",
    "4. not ((5 > 4) or (3 == 5)) -> False\n",
    "5. (True and True) and (True == False) -> False\n",
    "6. (not False) or (not True) -> True"
   ]
  },
  {
   "cell_type": "markdown",
   "id": "96886120",
   "metadata": {},
   "source": [
    "##Question no.5\n",
    "The six comparison operators are:\n",
    "\n",
    "1. Equal to (==)\n",
    "2. Not equal to (!=)\n",
    "3. Greater than (>)\n",
    "4. Less than (<)\n",
    "5. Greater than or equal to (>=)\n",
    "6. Less than or equal to (<=)"
   ]
  },
  {
   "cell_type": "markdown",
   "id": "60047784",
   "metadata": {},
   "source": [
    "##Question no.6\n",
    "The equal to operator (==) is used to compare two values and returns True if they are equal, otherwise False. The assignment operator (=) is used to assign a value to a variable. In a condition, you would use the equal to operator (==) to compare values. For example:x = 5\n",
    "if x == 5:\n",
    "    # Code to execute if x is equal to 5\n"
   ]
  },
  {
   "cell_type": "code",
   "execution_count": 2,
   "id": "b8b0eacf",
   "metadata": {},
   "outputs": [
    {
     "name": "stdout",
     "output_type": "stream",
     "text": [
      "ham\n",
      "spam\n",
      "spam\n"
     ]
    },
    {
     "data": {
      "text/plain": [
       "\"The first block is the assignment of the value 0 to the variable spam.\\nThe second block is an if statement checking if spam is equal to 10. If it is, it prints 'eggs'.\\nThe third block is another if statement checking if spam is greater than 5. If it is, it prints 'bacon'. Otherwise, it goes to the else block and prints 'ham'.\\nThe last two print statements are not indented and will be executed regardless of the conditions\""
      ]
     },
     "execution_count": 2,
     "metadata": {},
     "output_type": "execute_result"
    }
   ],
   "source": [
    "##Question no.7\n",
    "spam = 0\n",
    "if spam == 10:\n",
    "    print('eggs')\n",
    "if spam > 5:\n",
    "    print('bacon')\n",
    "else:\n",
    "    print('ham')\n",
    "print('spam')\n",
    "print('spam')\n",
    "\n",
    "\n",
    "'''The first block is the assignment of the value 0 to the variable spam.\n",
    "The second block is an if statement checking if spam is equal to 10. If it is, it prints 'eggs'.\n",
    "The third block is another if statement checking if spam is greater than 5. If it is, it prints 'bacon'. Otherwise, it goes to the else block and prints 'ham'.\n",
    "The last two print statements are not indented and will be executed regardless of the conditions''' \n"
   ]
  },
  {
   "cell_type": "code",
   "execution_count": 3,
   "id": "7b8842e4",
   "metadata": {},
   "outputs": [
    {
     "name": "stdout",
     "output_type": "stream",
     "text": [
      "Hello\n"
     ]
    }
   ],
   "source": [
    "##Question no.8\n",
    "spam = 1\n",
    "\n",
    "if spam == 1:\n",
    "    print('Hello')\n",
    "elif spam == 2:\n",
    "    print('Howdy')\n",
    "else:\n",
    "    print('Greetings!')\n"
   ]
  },
  {
   "cell_type": "markdown",
   "id": "cb1c9872",
   "metadata": {},
   "source": [
    "##Question no.9\n",
    "\n",
    "\n",
    "If your program is stuck in an endless loop, you can typically press the \"Ctrl + C\" keys to forcefully terminate the program and break out of the loop"
   ]
  },
  {
   "cell_type": "markdown",
   "id": "891a33eb",
   "metadata": {},
   "source": [
    "##Question 10\n",
    "\n",
    "The \"break\" statement is used to exit the current loop and continue with the next statement after the loop. It is often used to prematurely terminate a loop based on a certain condition. The \"continue\" statement, on the other hand, is used to skip the current iteration of a loop and continue with the next iteration."
   ]
  },
  {
   "cell_type": "markdown",
   "id": "05b4298a",
   "metadata": {},
   "source": [
    "##Question 11\n",
    "\n",
    "In a for loop:\n",
    "\n",
    "1. range(10) will iterate from 0 to 9 (inclusive) with a step size of 1 by default.\n",
    "2. range(0, 10) is equivalent to range(10). It starts at 0 and ends at 9 (inclusive) with a step size of 1.\n",
    "3. range(0, 10, 1) is also equivalent to range(10). It starts at 0 and ends at 9 (inclusive) with a step size of 1."
   ]
  },
  {
   "cell_type": "code",
   "execution_count": 5,
   "id": "97c6df44",
   "metadata": {},
   "outputs": [
    {
     "name": "stdout",
     "output_type": "stream",
     "text": [
      "1\n",
      "2\n",
      "3\n",
      "4\n",
      "5\n",
      "6\n",
      "7\n",
      "8\n",
      "9\n",
      "10\n"
     ]
    }
   ],
   "source": [
    "##Question 12\n",
    "\n",
    "for num in range(1, 11):\n",
    "    print(num)\n"
   ]
  },
  {
   "cell_type": "code",
   "execution_count": 6,
   "id": "a9d59f12",
   "metadata": {},
   "outputs": [
    {
     "name": "stdout",
     "output_type": "stream",
     "text": [
      "1\n",
      "2\n",
      "3\n",
      "4\n",
      "5\n",
      "6\n",
      "7\n",
      "8\n",
      "9\n",
      "10\n"
     ]
    }
   ],
   "source": [
    "##Question 12\n",
    "num = 1\n",
    "while num <= 10:\n",
    "    print(num)\n",
    "    num += 1\n"
   ]
  },
  {
   "cell_type": "code",
   "execution_count": 8,
   "id": "e2de4e64",
   "metadata": {},
   "outputs": [],
   "source": [
    "##Question 13\n",
    "import spam\n",
    "\n",
    "spam.bacon()\n"
   ]
  }
 ],
 "metadata": {
  "kernelspec": {
   "display_name": "Python 3 (ipykernel)",
   "language": "python",
   "name": "python3"
  },
  "language_info": {
   "codemirror_mode": {
    "name": "ipython",
    "version": 3
   },
   "file_extension": ".py",
   "mimetype": "text/x-python",
   "name": "python",
   "nbconvert_exporter": "python",
   "pygments_lexer": "ipython3",
   "version": "3.9.13"
  }
 },
 "nbformat": 4,
 "nbformat_minor": 5
}
