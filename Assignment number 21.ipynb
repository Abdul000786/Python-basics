{
 "cells": [
  {
   "cell_type": "code",
   "execution_count": 12,
   "id": "6ecb16f4",
   "metadata": {},
   "outputs": [],
   "source": [
    "##Question no.1\n",
    "\n",
    "import datetime\n",
    "\n",
    "current_date = datetime.date.today().isoformat()\n",
    "with open('today.txt', 'w') as file:\n",
    "    file.write(current_date)\n"
   ]
  },
  {
   "cell_type": "code",
   "execution_count": 13,
   "id": "6fc90276",
   "metadata": {},
   "outputs": [
    {
     "name": "stdout",
     "output_type": "stream",
     "text": [
      "2023-05-10\n"
     ]
    }
   ],
   "source": [
    "##Question no.2\n",
    "\n",
    "with open('today.txt', 'r') as file:\n",
    "    today_string = file.read()\n",
    "\n",
    "print(today_string)\n"
   ]
  },
  {
   "cell_type": "code",
   "execution_count": 14,
   "id": "9862dfec",
   "metadata": {},
   "outputs": [
    {
     "name": "stdout",
     "output_type": "stream",
     "text": [
      "2023-05-10\n"
     ]
    }
   ],
   "source": [
    "##Question no.3\n",
    "\n",
    "parsed_date = datetime.datetime.strptime(today_string, '%Y-%m-%d').date()\n",
    "print(parsed_date)\n"
   ]
  },
  {
   "cell_type": "code",
   "execution_count": 15,
   "id": "5b25fd81",
   "metadata": {},
   "outputs": [
    {
     "name": "stdout",
     "output_type": "stream",
     "text": [
      ".ipynb_checkpoints\n",
      "Assignment number 1.ipynb\n",
      "Assignment number 10.ipynb\n",
      "Assignment number 11.ipynb\n",
      "Assignment number 12.ipynb\n",
      "Assignment number 13.ipynb\n",
      "Assignment number 14.ipynb\n",
      "Assignment number 15.ipynb\n",
      "Assignment number 16.ipynb\n",
      "Assignment number 17.ipynb\n",
      "Assignment number 18.ipynb\n",
      "Assignment number 19.ipynb\n",
      "Assignment number 2.ipynb\n",
      "Assignment number 20.ipynb\n",
      "Assignment number 21.ipynb\n",
      "Assignment number 3.ipynb\n",
      "Assignment number 4.ipynb\n",
      "Assignment number 5.ipynb\n",
      "Assignment number 6.ipynb\n",
      "Assignment number 7.ipynb\n",
      "Assignment number 8.ipynb\n",
      "Assignment number 9.ipynb\n",
      "books.csv\n",
      "books.db\n",
      "data.csv\n",
      "image.jpeg\n",
      "modified.jpeg\n",
      "test.txt\n",
      "today.txt\n",
      "zoo.py\n",
      "__pycache__\n"
     ]
    }
   ],
   "source": [
    "##Question no. 4\n",
    "\n",
    "import os\n",
    "\n",
    "current_directory = os.getcwd()\n",
    "files = os.listdir(current_directory)\n",
    "\n",
    "for file in files:\n",
    "    print(file)\n"
   ]
  },
  {
   "cell_type": "code",
   "execution_count": 16,
   "id": "cd814022",
   "metadata": {},
   "outputs": [
    {
     "name": "stdout",
     "output_type": "stream",
     "text": [
      "[' 8th notebook iterator generator and file system.ipynb', '.accessibility.properties', '.bash_history', '.bash_profile', '.condarc', '.gitconfig', '.lesshst', '1.ipynb', '10th notebook LOGGING.ipynb', '11th notebook module and packages.ipynb', '12th notebook OOPS CONCEPT class 1st and 2nd class.ipynb', '13th notebook POLYMORPHISM.ipynb', '14th notebook MYSQL AND DATABASES.ipynb', '15th notebook INTRODUCTION TO MONGODB.ipynb', '16th notebook SQL LITE , MAP , REDUCE , FILTER, ZIP.ipynb', '17th notebook PANDAS.ipynb', '18th notebook PANDAS & NUMPY.ipynb', '19th notebook GUI  PROGRAMMINGwith Tkinter.ipynb', '1stnote book starting python , string , tuple , list , set , dictionary.ipynb', '20th notebook INTRODUCTION TO  GRAPHS AND CHARTS .ipynb', '21th notebook Working with Graphs in Python.ipynb', '22th notebook API testing  .ipynb', '23TH NOTEBook REVIEWS SCRAPPER .ipynb', '24th notebook image scrapper and deployment on Heroku, aws and azure.ipynb', '25th STATISTICS.ipynb', '26th notebook EDA & FEATURE ENGINEERING .ipynb', '27(1)th notebook linear regression (youtube).ipynb', '27th notebook LASSO&REGRESSION.ipynb', '28th notebook  LOGISTIC PRACTICAL .ipynb', '29th DECISION TREE.ipynb', '2nd notebook implementation of binary search .ipynb', '2nd notebook Tuples , set , dict .ipynb', '30th notebook PRACTICE OF EDA STATS OR ML.ipynb', '31th notebook KMEANS CLUSTERING.ipynb', '32th notebook  herarichal clustering.ipynb', '33th notebook silhoutte clustering .ipynb', '34th notebook sudhanshu sir linear regression practical.ipynb', '35th notebook logistic regression practical by sudhanshu sir.ipynb', '36th notebook Decision tree practical implementation by sudhanshu sir.ipynb', '37th notebook  KNN,SVC,SVR AND STACKING .ipynb', '39TH NOTEBOOK NAIVE BIAS PRACTICAL IMPLEMENTATION BY SUDHANSHU SIR.ipynb', '3rd notebook if or else statement , while or for loop.ipynb', '40TH  NOTEBOOK   XGBOOST.ipynb', '41TH NOTEBOOK  NLTK AND TF-IDF.ipynb', '42th notebook PCA practical implementation by sunny sir.ipynb', '43th NLP in ML, TF-IDF,NLTK .ipynb', '44th SPAM CLASSIFICATION.ipynb', '45th notebook TIME SERIES.ipynb', '4th notebook if or else statement 3rd class.ipynb', '5th class extend notebook python program discussion in loops.ipynb', '5th notebook for while nested if else .ipynb', '6th notebook function part-1.ipynb', '7th notebook function part-2.ipynb', '9th notebook exception handling class 1  .ipynb', 'abdul.log', 'abdul1.py', 'Admission_lr_model.pickle', 'Admission_Prediction.csv', 'advertising (1)FSDS bootcamp2.0.csv', 'advi.html', 'ai4i2020.csv', 'airfoil_self_noise.dat', 'assignment testing.ipynb', 'automobileservice.html', 'bank-full.csv', 'bank.csv', 'blood.py', 'car.data', 'Classified Data', 'contacts.csv', 'creditcard.csv', 'cricket.csv', 'Customers.csv', 'daily class assignment.ipynb', 'Data_Train.xlsx', 'decision tree of wine quality pic.png', 'dt_en_meta.dot', 'earth_meteorites.csv', 'first.py', 'for practice.ipynb', 'func.py', 'glass.data', 'guddu.log', 'hameed.html', 'image.jpg', 'image2.jpg', 'IMDB Dataset.csv', 'ineuron.db', 'jason.csv', 'joindb.db', 'knn.pkl', 'linear_reg.sav', 'list.log', 'list.py', 'LUSID Excel - Business Agility - Making Simple Changes Quickly & Easily.xlsx', 'LUSID Excel - Maintain a product in multiple currencies and share classes.xlsx', 'LUSID Excel - Manage instruments with economic definitions.xlsx', 'LUSID Excel - Manage Orders.xlsx', 'LUSID Excel - Manage your investment strategies.xlsx', 'LUSID Excel - Setting up your IBOR.xlsx', 'LUSID Excel - Setting up your market data.xlsx', 'MACHINE LEARNING PROJECT.ipynb', 'machine-learning-project-housingprice-predict-main.zip', 'machine_learning_project-main.zip', 'mahine learning assignment.ipynb', 'model.txt', 'mydict.py', 'my_module.py', 'NBA.csv', 'NTUSER.DAT', 'ntuser.dat.LOG1', 'ntuser.dat.LOG2', 'NTUSER.DAT{d26f831d-a11d-11ed-badb-f7dc48132e5e}.TM.blf', 'NTUSER.DAT{d26f831d-a11d-11ed-badb-f7dc48132e5e}.TMContainer00000000000000000001.regtrans-ms', 'NTUSER.DAT{d26f831d-a11d-11ed-badb-f7dc48132e5e}.TMContainer00000000000000000002.regtrans-ms', 'ntuser.ini', 'pandas_test.csv', 'people.csv', 'person.db', 'PH-Sales.csv', 'pokemon_data.xlsx', 'pp.py', 'pra.py', 'practice.py', 'programming assignment 1.ipynb', 'programming_Assignment 2.ipynb', 'project.png', 'python assessment interview.ipynb', 'python assignment  lecture 2.ipynb', 'python2.0.py', 'python2.py', 'Question no. 2.ipynb', 'Question no6.ipynb', 'read.txt', 'readme', 'README.md', 'Screenshot 2023-06-29 142328.png', 'services.csv', 'SMSSpamCollection', 'stats assingment testing.ipynb', 'sun.log', 'test.log', 'test.txt', 'test1.txt', 'test2.log', 'test2.py', 'test2.txt', 'test4.log', 'Test_set.xlsx', 'text1.py', 'tfidf.pkl', 'train.csv', 'train1.csv', 'untitled', 'untitled 2.ipynb', 'Untitled.ipynb', 'Untitled1.ipynb', 'Untitled2.ipynb', 'Untitled3.ipynb', 'Untitled4.ipynb', 'Untitled5.ipynb', 'Untitled6.ipynb', 'Untitled7.ipynb']\n"
     ]
    }
   ],
   "source": [
    "##Question no.5\n",
    "\n",
    "parent_directory = os.path.dirname(current_directory)\n",
    "parent_files = os.listdir(parent_directory)\n",
    "\n",
    "file_list = []\n",
    "for file in parent_files:\n",
    "    file_path = os.path.join(parent_directory, file)\n",
    "    if os.path.isfile(file_path):\n",
    "        file_list.append(file)\n",
    "\n",
    "print(file_list)\n"
   ]
  },
  {
   "cell_type": "code",
   "execution_count": 17,
   "id": "b0e85129",
   "metadata": {},
   "outputs": [],
   "source": [
    "##Question no.6\n",
    "\n",
    "import multiprocessing\n",
    "import random\n",
    "import time\n",
    "from datetime import datetime\n",
    "\n",
    "def worker():\n",
    "    wait_time = random.randint(1, 5)\n",
    "    time.sleep(wait_time)\n",
    "    current_time = datetime.now().strftime(\"%H:%M:%S\")\n",
    "    print(f\"Current time: {current_time}\")\n",
    "\n",
    "processes = []\n",
    "for _ in range(3):\n",
    "    p = multiprocessing.Process(target=worker)\n",
    "    p.start()\n",
    "    processes.append(p)\n",
    "\n",
    "for p in processes:\n",
    "    p.join()\n"
   ]
  },
  {
   "cell_type": "code",
   "execution_count": 19,
   "id": "2ff69aa0",
   "metadata": {},
   "outputs": [
    {
     "name": "stdout",
     "output_type": "stream",
     "text": [
      "2001-05-15\n"
     ]
    }
   ],
   "source": [
    "##Question no.7\n",
    "\n",
    "import datetime\n",
    "birth_date = datetime.date(2001, 5, 15)\n",
    "print(birth_date)\n"
   ]
  },
  {
   "cell_type": "code",
   "execution_count": 20,
   "id": "6d2739b2",
   "metadata": {},
   "outputs": [
    {
     "name": "stdout",
     "output_type": "stream",
     "text": [
      "Tuesday\n"
     ]
    }
   ],
   "source": [
    "##Question no.8\n",
    "\n",
    "birth_weekday = birth_date.strftime('%A')\n",
    "print(birth_weekday)\n"
   ]
  },
  {
   "cell_type": "code",
   "execution_count": 21,
   "id": "5c410bb6",
   "metadata": {},
   "outputs": [
    {
     "name": "stdout",
     "output_type": "stream",
     "text": [
      "2028-09-30\n"
     ]
    }
   ],
   "source": [
    "##Question no.9\n",
    "\n",
    "delta = datetime.timedelta(days=10000)\n",
    "future_date = birth_date + delta\n",
    "print(future_date)\n"
   ]
  },
  {
   "cell_type": "code",
   "execution_count": null,
   "id": "c0f9c0bf",
   "metadata": {},
   "outputs": [],
   "source": []
  }
 ],
 "metadata": {
  "kernelspec": {
   "display_name": "Python 3 (ipykernel)",
   "language": "python",
   "name": "python3"
  },
  "language_info": {
   "codemirror_mode": {
    "name": "ipython",
    "version": 3
   },
   "file_extension": ".py",
   "mimetype": "text/x-python",
   "name": "python",
   "nbconvert_exporter": "python",
   "pygments_lexer": "ipython3",
   "version": "3.9.13"
  }
 },
 "nbformat": 4,
 "nbformat_minor": 5
}
