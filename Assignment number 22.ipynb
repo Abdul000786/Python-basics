{
 "cells": [
  {
   "cell_type": "code",
   "execution_count": 17,
   "id": "86452d86",
   "metadata": {},
   "outputs": [
    {
     "name": "stdout",
     "output_type": "stream",
     "text": [
      "iNeuron\n"
     ]
    },
    {
     "data": {
      "text/plain": [
       "\"In the func() function, when the print statement is executed, it looks for the variable X in the local scope of the \\nfunction.\\nSince X is not defined in the local variable, it will look for it in the global variable, where X is \\nassigned the value 'iNeuron'. Therefore, it prints 'iNeuron\""
      ]
     },
     "execution_count": 17,
     "metadata": {},
     "output_type": "execute_result"
    }
   ],
   "source": [
    "##Question no.1\n",
    "\n",
    "X = 'iNeuron'\n",
    "def func():\n",
    "    print(X)\n",
    "\n",
    "func()\n",
    "\n",
    "#Explanation\n",
    "'''In the func() function, when the print statement is executed, it looks for the variable X in the local scope of the \n",
    "function.\n",
    "Since X is not defined in the local variable, it will look for it in the global variable, where X is \n",
    "assigned the value 'iNeuron'. Therefore, it prints 'iNeuron'''\n"
   ]
  },
  {
   "cell_type": "code",
   "execution_count": 20,
   "id": "0e79a090",
   "metadata": {},
   "outputs": [
    {
     "name": "stdout",
     "output_type": "stream",
     "text": [
      "iNeuron\n"
     ]
    },
    {
     "data": {
      "text/plain": [
       "\" In the func() function, when X = 'NI!' is assigned, it creates a new local variable X within the function variable. \\nThis new local variable does not affect the global variable X. Therefore, when print(X) is executed outside the function,\\nit refers to the global variable X, which is still 'iNeuron'.\""
      ]
     },
     "execution_count": 20,
     "metadata": {},
     "output_type": "execute_result"
    }
   ],
   "source": [
    "##Question no.2\n",
    "\n",
    "X = 'iNeuron'\n",
    "def func():\n",
    "     X = 'NI!'\n",
    "\n",
    "func()\n",
    "print(X)\n",
    "\n",
    "##Explanation\n",
    "''' In the func() function, when X = 'NI!' is assigned, it creates a new local variable X within the function variable. \n",
    "This new local variable does not affect the global variable X. Therefore, when print(X) is executed outside the function,\n",
    "it refers to the global variable X, which is still 'iNeuron'.'''"
   ]
  },
  {
   "cell_type": "code",
   "execution_count": 25,
   "id": "d434bf47",
   "metadata": {},
   "outputs": [
    {
     "name": "stdout",
     "output_type": "stream",
     "text": [
      "NI\n",
      "iNeuron\n"
     ]
    },
    {
     "data": {
      "text/plain": [
       "\"Inside the func() function, when X = 'NI' is assigned, it creates a new local variable X within the function variable.\\nTherefore, when print(X) is executed inside the function, it prints 'NI'. \\nOutside the function, print(X) refers to the global variable X, which is still 'iNeuron', so it prints 'iNeuron'.\""
      ]
     },
     "execution_count": 25,
     "metadata": {},
     "output_type": "execute_result"
    }
   ],
   "source": [
    "##Question no.3\n",
    "\n",
    "X = 'iNeuron'\n",
    "def func():\n",
    "    X = 'NI'\n",
    "    print(X)\n",
    "\n",
    "func()\n",
    "print(X)\n",
    "\n",
    "##Explanation\n",
    "'''Inside the func() function, when X = 'NI' is assigned, it creates a new local variable X within the function variable.\n",
    "Therefore, when print(X) is executed inside the function, it prints 'NI'. \n",
    "Outside the function, print(X) refers to the global variable X, which is still 'iNeuron', so it prints 'iNeuron'.'''"
   ]
  },
  {
   "cell_type": "code",
   "execution_count": 27,
   "id": "95290945",
   "metadata": {},
   "outputs": [
    {
     "name": "stdout",
     "output_type": "stream",
     "text": [
      "NI\n"
     ]
    },
    {
     "data": {
      "text/plain": [
       "\" Inside the func() function, global X is used to indicate that X is a global variable and not a local variable.\\nTherefore, when X = 'NI' is assigned inside the function, it updates the global variable X to 'NI'.\\nConsequently, when print(X) is executed outside the function, it prints the updated value of 'NI'.\\n\""
      ]
     },
     "execution_count": 27,
     "metadata": {},
     "output_type": "execute_result"
    }
   ],
   "source": [
    "##Question no.4\n",
    "\n",
    "X = 'iNeuron'\n",
    "def func():\n",
    "    global X\n",
    "    X = 'NI'\n",
    "\n",
    "func()\n",
    "print(X)\n",
    "\n",
    "##Explanation\n",
    "\n",
    "''' Inside the func() function, global X is used to indicate that X is a global variable and not a local variable.\n",
    "Therefore, when X = 'NI' is assigned inside the function, it updates the global variable X to 'NI'.\n",
    "Consequently, when print(X) is executed outside the function, it prints the updated value of 'NI'.\n",
    "'''\n",
    "\n",
    "\n"
   ]
  },
  {
   "cell_type": "code",
   "execution_count": 31,
   "id": "e1d322ca",
   "metadata": {},
   "outputs": [
    {
     "name": "stdout",
     "output_type": "stream",
     "text": [
      "NI\n",
      "iNeuron\n"
     ]
    },
    {
     "data": {
      "text/plain": [
       "\"Inside the nested() function, when print(X) is executed, it first looks for X in the local scope of nested(). \\nSince X is not defined in the local scope of nested(), it looks for it in the nearest enclosing scope,\\nwhich is the func() function. It finds the value 'NI' assigned to X in the func() function, so it prints 'NI'.\\nOutside the functions, print(X) refers to the global variable X, which is still 'iNeuron', so it prints 'iNeuron'.\""
      ]
     },
     "execution_count": 31,
     "metadata": {},
     "output_type": "execute_result"
    }
   ],
   "source": [
    "##Question no.5\n",
    "\n",
    "X = 'iNeuron'\n",
    "def func():\n",
    "    X = 'NI'\n",
    "    def nested():\n",
    "        print(X)\n",
    "    nested()\n",
    "func()\n",
    "print(X)\n",
    "\n",
    "##Explanation\n",
    "\n",
    "'''Inside the nested() function, when print(X) is executed, it first looks for X in the local scope of nested(). \n",
    "Since X is not defined in the local scope of nested(), it looks for it in the nearest enclosing scope,\n",
    "which is the func() function. It finds the value 'NI' assigned to X in the func() function, so it prints 'NI'.\n",
    "Outside the functions, print(X) refers to the global variable X, which is still 'iNeuron', so it prints 'iNeuron'.'''"
   ]
  },
  {
   "cell_type": "code",
   "execution_count": 34,
   "id": "d507243c",
   "metadata": {},
   "outputs": [
    {
     "name": "stdout",
     "output_type": "stream",
     "text": [
      "Spam\n"
     ]
    },
    {
     "data": {
      "text/plain": [
       "\"\\nthe nonlocal keyword is used to indicate that X is a variable in the nearest enclosing scope (here, the func() function) and should be modified by the nested function nested().\\nTherefore, when X = 'Spam' is assigned inside nested(), it modifies the value of X in the func() function.\\nHence, when print(X) is executed in func() after calling nested(), it prints 'Spam'.\""
      ]
     },
     "execution_count": 34,
     "metadata": {},
     "output_type": "execute_result"
    }
   ],
   "source": [
    "##Question no.6\n",
    "\n",
    "def func():\n",
    "    X = 'NI'\n",
    "    def nested():\n",
    "        nonlocal X\n",
    "        X = 'Spam'\n",
    "    nested()\n",
    "    print(X)\n",
    "\n",
    "func()\n",
    "\n",
    "\n",
    "'''\n",
    "the nonlocal keyword is used to indicate that X is a variable in the nearest enclosing scope (here, the func() function) and should be modified by the nested function nested().\n",
    "Therefore, when X = 'Spam' is assigned inside nested(), it modifies the value of X in the func() function.\n",
    "Hence, when print(X) is executed in func() after calling nested(), it prints 'Spam'.'''"
   ]
  },
  {
   "cell_type": "code",
   "execution_count": null,
   "id": "0da1fc79",
   "metadata": {},
   "outputs": [],
   "source": []
  }
 ],
 "metadata": {
  "kernelspec": {
   "display_name": "Python 3 (ipykernel)",
   "language": "python",
   "name": "python3"
  },
  "language_info": {
   "codemirror_mode": {
    "name": "ipython",
    "version": 3
   },
   "file_extension": ".py",
   "mimetype": "text/x-python",
   "name": "python",
   "nbconvert_exporter": "python",
   "pygments_lexer": "ipython3",
   "version": "3.9.13"
  }
 },
 "nbformat": 4,
 "nbformat_minor": 5
}
