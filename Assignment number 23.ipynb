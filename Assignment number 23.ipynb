{
 "cells": [
  {
   "cell_type": "code",
   "execution_count": 9,
   "id": "3dc9a30a",
   "metadata": {},
   "outputs": [
    {
     "name": "stdout",
     "output_type": "stream",
     "text": [
      "1 2 8\n"
     ]
    },
    {
     "data": {
      "text/plain": [
       "'. In the function func(), a is assigned the value 1, b is assigned the value 2 \\n, and c takes its default value of 8. Therefore, when the function is called with func(1, 2), it prints 1 2 8.'"
      ]
     },
     "execution_count": 9,
     "metadata": {},
     "output_type": "execute_result"
    }
   ],
   "source": [
    "##Question no. 1\n",
    "\n",
    "def func(a, b=6, c=8):\n",
    "    print(a, b, c)\n",
    "\n",
    "func(1, 2)\n",
    "\n",
    "\n",
    "##Explanation\n",
    "\n",
    "'''. In the function func(), a is assigned the value 1, b is assigned the value 2 \n",
    ", and c takes its default value of 8. Therefore, when the function is called with func(1, 2), it prints 1 2 8.'''\n"
   ]
  },
  {
   "cell_type": "code",
   "execution_count": 11,
   "id": "53d02d86",
   "metadata": {},
   "outputs": [
    {
     "name": "stdout",
     "output_type": "stream",
     "text": [
      "1 2 3\n"
     ]
    },
    {
     "data": {
      "text/plain": [
       "'\\nIn the function func(), a is assigned the value 1, b is assigned the value 2 ,\\nand c is explicitly assigned the value 3 using the keyword argument c=3.\\nTherefore, when the function is called with func(1, c=3, b=2), it prints 1 2 3.'"
      ]
     },
     "execution_count": 11,
     "metadata": {},
     "output_type": "execute_result"
    }
   ],
   "source": [
    "##Question no.2\n",
    "\n",
    "def func(a, b, c=5):\n",
    "    print(a, b, c)\n",
    "\n",
    "func(1, c=3, b=2)\n",
    "\n",
    "##Explanation\n",
    "'''\n",
    "In the function func(), a is assigned the value 1, b is assigned the value 2 ,\n",
    "and c is explicitly assigned the value 3 using the keyword argument c=3.\n",
    "Therefore, when the function is called with func(1, c=3, b=2), it prints 1 2 3.'''"
   ]
  },
  {
   "cell_type": "code",
   "execution_count": 13,
   "id": "25155a90",
   "metadata": {},
   "outputs": [
    {
     "name": "stdout",
     "output_type": "stream",
     "text": [
      "1 (2, 3)\n"
     ]
    },
    {
     "data": {
      "text/plain": [
       "' In the function func(), a is assigned the value 1, and the *args parameter captures any additional positional arguments passed to the function. When func(1, 2, 3) is called,\\na takes the value 1, and args captures the tuple (2, 3) containing the additional arguments. Therefore, it prints 1 (2, 3).'"
      ]
     },
     "execution_count": 13,
     "metadata": {},
     "output_type": "execute_result"
    }
   ],
   "source": [
    "##Question no.3\n",
    "\n",
    "def func(a, *args):\n",
    "    print(a, args)\n",
    "\n",
    "func(1, 2, 3)\n",
    "\n",
    "##Explanation\n",
    "''' In the function func(), a is assigned the value 1, and the *args parameter captures any additional positional arguments passed to the function. When func(1, 2, 3) is called,\n",
    "a takes the value 1, and args captures the tuple (2, 3) containing the additional arguments. Therefore, it prints 1 (2, 3).'''"
   ]
  },
  {
   "cell_type": "code",
   "execution_count": 15,
   "id": "7255e431",
   "metadata": {},
   "outputs": [
    {
     "name": "stdout",
     "output_type": "stream",
     "text": [
      "1 {'c': 3, 'b': 2}\n"
     ]
    },
    {
     "data": {
      "text/plain": [
       "\"In the function func(), a is assigned the value 1, and the **kwargs parameter captures any additional keyword arguments passed to the function.\\nWhen func(a=1, c=3, b=2) is called, a takes the value 1, and kwargs captures the keyword arguments as a dictionary, {'c': 3, 'b': 2}. Therefore, it prints 1 {'c': 3, 'b': 2}.\""
      ]
     },
     "execution_count": 15,
     "metadata": {},
     "output_type": "execute_result"
    }
   ],
   "source": [
    "##Question no.4\n",
    "\n",
    "def func(a, **kwargs):\n",
    "    print(a, kwargs)\n",
    "\n",
    "func(a=1, c=3, b=2)\n",
    "\n",
    "##Explanation\n",
    "\n",
    "'''In the function func(), a is assigned the value 1, and the **kwargs parameter captures any additional keyword arguments passed to the function.\n",
    "When func(a=1, c=3, b=2) is called, a takes the value 1, and kwargs captures the keyword arguments as a dictionary, {'c': 3, 'b': 2}. Therefore, it prints 1 {'c': 3, 'b': 2}.'''"
   ]
  },
  {
   "cell_type": "code",
   "execution_count": 18,
   "id": "fdd614c8",
   "metadata": {},
   "outputs": [
    {
     "name": "stdout",
     "output_type": "stream",
     "text": [
      "1 5 6 5\n"
     ]
    },
    {
     "data": {
      "text/plain": [
       "' the arguments are assigned as follows: a takes the value 1, b takes the first value from the tuple (5, 6),\\nwhich is 5, c takes its default value of 8, and d takes its default value of 5. \\nTherefore, when func(1, *(5, 6)) is called, it prints 1 5 6 5.'"
      ]
     },
     "execution_count": 18,
     "metadata": {},
     "output_type": "execute_result"
    }
   ],
   "source": [
    "##Question no.5\n",
    "\n",
    "def func(a, b, c=8, d=5):\n",
    "    print(a, b, c, d)\n",
    "\n",
    "func(1, *(5, 6))\n",
    "\n",
    "\n",
    "##Explanation\n",
    "\n",
    "''' the arguments are assigned as follows: a takes the value 1, b takes the first value from the tuple (5, 6),\n",
    "which is 5, c takes its default value of 8, and d takes its default value of 5. \n",
    "Therefore, when func(1, *(5, 6)) is called, it prints 1 5 6 5.'''"
   ]
  },
  {
   "cell_type": "code",
   "execution_count": 20,
   "id": "0f33ba53",
   "metadata": {},
   "outputs": [
    {
     "data": {
      "text/plain": [
       "\" Inside the func() function, a is reassigned the value 2, b[0] (the first element of list m) is modified to 'x',\\nand c['a'] (the value corresponding to key 'a' in dictionary n) is modified to 'y'. Since lists and dictionaries are mutable objects, changes made to them within the function are reflected outside the function as well.\\nTherefore, after calling func(l, m, n), the values of l, m, and n are 1, ['x'], and {'a': 'y'} respectiv\\n\""
      ]
     },
     "execution_count": 20,
     "metadata": {},
     "output_type": "execute_result"
    }
   ],
   "source": [
    "##Question no.6\n",
    "\n",
    "def func(a, b, c):\n",
    "     a = 2\n",
    "     b[0] = 'x'\n",
    "     c['a'] = 'y'\n",
    "\n",
    "l = 1\n",
    "m = [1]\n",
    "n = {'a': 0}\n",
    "func(l, m, n)\n",
    "l, m, n\n",
    "\n",
    "\n",
    "##Explanation\n",
    "''' Inside the func() function, a is reassigned the value 2, b[0] (the first element of list m) is modified to 'x',\n",
    "and c['a'] (the value corresponding to key 'a' in dictionary n) is modified to 'y'. Since lists and dictionaries are mutable objects, changes made to them within the function are reflected outside the function as well.\n",
    "Therefore, after calling func(l, m, n), the values of l, m, and n are 1, ['x'], and {'a': 'y'} respectiv\n",
    "'''\n"
   ]
  },
  {
   "cell_type": "code",
   "execution_count": null,
   "id": "65addac0",
   "metadata": {},
   "outputs": [],
   "source": []
  }
 ],
 "metadata": {
  "kernelspec": {
   "display_name": "Python 3 (ipykernel)",
   "language": "python",
   "name": "python3"
  },
  "language_info": {
   "codemirror_mode": {
    "name": "ipython",
    "version": 3
   },
   "file_extension": ".py",
   "mimetype": "text/x-python",
   "name": "python",
   "nbconvert_exporter": "python",
   "pygments_lexer": "ipython3",
   "version": "3.9.13"
  }
 },
 "nbformat": 4,
 "nbformat_minor": 5
}
