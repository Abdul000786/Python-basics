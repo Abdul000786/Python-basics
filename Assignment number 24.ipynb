{
 "cells": [
  {
   "cell_type": "markdown",
   "id": "ccf8f894",
   "metadata": {},
   "source": [
    "##Question no.1\n",
    "\n",
    "1. Both def statements and lambda expressions are used to define functions in Python.\n",
    "2. The main difference is that def statements are used to create named functions with a block of code, while lambda expressions are used to create anonymous functions.\n",
    "3. Def statements allow for multiple lines of code and provide more flexibility, whereas lambda expressions are typically used for simple, one-line functions.\n"
   ]
  },
  {
   "cell_type": "markdown",
   "id": "91fd979d",
   "metadata": {},
   "source": [
    "##Question no.2\n",
    "\n",
    "1. The benefit of lambda expressions is their conciseness and ability to define small, anonymous functions on the fly.\n",
    "2. They are useful in situations where a function is needed for a short period or as an argument to another function.\n",
    "3. Lambdas can simplify code by eliminating the need to define a separate named function."
   ]
  },
  {
   "cell_type": "markdown",
   "id": "ac547431",
   "metadata": {},
   "source": [
    "##Question no.3\n",
    "\n",
    "1. map, filter, and reduce are built-in Python functions that operate on sequences (such as lists, tuples, or strings) and apply a function to each element.\n",
    "2. map takes a function and an iterable as arguments, applies the function to each element in the iterable, and returns a new iterator with the results.\n",
    "3. filter takes a function and an iterable as arguments, applies the function to each element in the iterable, and returns a new iterator with only the elements that satisfy the function's condition.\n",
    "4. reduce is part of the functools module and requires an import. It applies a function of two arguments cumulatively to the elements of an iterable, reducing it to a single value."
   ]
  },
  {
   "cell_type": "markdown",
   "id": "f477129d",
   "metadata": {},
   "source": [
    "##Question no.4\n",
    "\n",
    "1. Function annotations are a way to attach metadata to function parameters and return values.\n",
    "2. They provide information about the types of arguments and the return value expected by a function.\n",
    "3. Annotations are optional and do not affect the execution of the function. They can be any valid expression and are defined using colons after the parameter or return type.\n",
    "4. Function annotations are primarily used for documentation purposes and can be accessed using the __annotations__ attribute of a function."
   ]
  },
  {
   "cell_type": "markdown",
   "id": "8c0b78dc",
   "metadata": {},
   "source": [
    "##Question no.5\n",
    "\n",
    "1. Recursive functions are functions that call themselves within their own definition.\n",
    "2. They are useful when solving problems that can be divided into smaller, similar subproblems.\n",
    "3. Recursive functions typically have a base case that defines the termination condition, and a recursive case that breaks the problem down into smaller subproblems until the base case is reached.\n",
    "4. Proper design of recursive functions is essential to ensure termination and prevent infinite recursion."
   ]
  },
  {
   "cell_type": "markdown",
   "id": "a834803e",
   "metadata": {},
   "source": [
    "##Question no.6\n",
    "\n",
    "1. Functions should have a clear purpose and perform a specific task.\n",
    "2. Functions should be concise and focused, adhering to the \"single responsibility principle.\"\n",
    "3. Functions should have meaningful names that describe their purpose.\n",
    "4. Functions should use proper parameter and return value naming to enhance code readability.\n",
    "5. Functions should avoid excessive side effects and favor immutability.\n",
    "6. Functions should include documentation in the form of docstrings to describe their purpose, parameters, and return values."
   ]
  },
  {
   "cell_type": "markdown",
   "id": "19d362b9",
   "metadata": {},
   "source": [
    "##Question no.7\n",
    "\n",
    "1. Returning a value using the return statement.\n",
    "2.Printing output to the console or writing to a file (for informational purposes).\n",
    "3.Raising exceptions to indicate errors or exceptional conditions."
   ]
  },
  {
   "cell_type": "code",
   "execution_count": null,
   "id": "c56739c0",
   "metadata": {},
   "outputs": [],
   "source": []
  }
 ],
 "metadata": {
  "kernelspec": {
   "display_name": "Python 3 (ipykernel)",
   "language": "python",
   "name": "python3"
  },
  "language_info": {
   "codemirror_mode": {
    "name": "ipython",
    "version": 3
   },
   "file_extension": ".py",
   "mimetype": "text/x-python",
   "name": "python",
   "nbconvert_exporter": "python",
   "pygments_lexer": "ipython3",
   "version": "3.9.13"
  }
 },
 "nbformat": 4,
 "nbformat_minor": 5
}
