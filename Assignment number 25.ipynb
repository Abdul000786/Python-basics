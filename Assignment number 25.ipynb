{
 "cells": [
  {
   "cell_type": "markdown",
   "id": "77d128a6",
   "metadata": {},
   "source": [
    "##Question no.1\n",
    "\n",
    "1. Enclosing a list comprehension in square brackets ([]) creates a list object containing the evaluated elements of the comprehension.\n",
    "2. Enclosing a list comprehension in parentheses (()) creates a generator object, which is a type of iterator that generates values on the fly as requested.\n",
    "3. The main difference is that a list comprehension produces the entire list in memory, while a generator comprehension (enclosed in parentheses) generates elements one at a time, conserving memory."
   ]
  },
  {
   "cell_type": "markdown",
   "id": "c58c9950",
   "metadata": {},
   "source": [
    "##Question no.2\n",
    "\n",
    "1. Generators are a specific type of iterator in Python.\n",
    "2. Generators are defined using a special kind of function called a generator function, which uses the yield statement to produce a series of values.\n",
    "3. Generators can be iterated over using a for loop or by using the next() function, similar to other iterators.\n",
    "4. However, unlike regular iterators, generators maintain their state between iterations, allowing them to pause and resume execution."
   ]
  },
  {
   "cell_type": "markdown",
   "id": "33c8a9ce",
   "metadata": {},
   "source": [
    "##Question no.3\n",
    "\n",
    "1. A generator function is defined using the yield statement within its body.\n",
    "2. The presence of yield within a function is a sign that it is a generator function.\n",
    "3. Generator functions can have one or more yield statements and may also contain regular return statements."
   ]
  },
  {
   "cell_type": "markdown",
   "id": "ee7ad4d6",
   "metadata": {},
   "source": [
    "##Question no.4\n",
    "\n",
    "1. The yield statement is used in generator functions to produce a value to be returned to the caller.\n",
    "2. When a yield statement is encountered, the function's state is saved, and the yielded value is returned.\n",
    "3. The next time the generator is called, execution resumes from where it left off, allowing the generator to produce the next value.\n",
    "4. This process can continue until the generator function either completes or encounters a return statement."
   ]
  },
  {
   "cell_type": "markdown",
   "id": "ce704552",
   "metadata": {},
   "source": [
    "##Question no.5\n",
    "\n",
    "1. Both map calls and list comprehensions are used to perform operations on elements of a sequence and produce a new sequence.\n",
    "2. Map applies a given function to each element of an input sequence and returns an iterator containing the results.\n",
    "3. List comprehensions provide a concise way to create a new list by specifying the desired transformation for each element of an input sequence.\n",
    "\n",
    "0. The main differences are:\n",
    "\n",
    "1. Map returns an iterator, while a list comprehension directly creates a list.\n",
    "2. List comprehensions allow for more flexibility in terms of conditional filtering and nested iteration.\n",
    "3. Map can be useful when working with large datasets, as it processes elements lazily, while list comprehensions create the entire list in memory.\n",
    "4. List comprehensions often result in more readable and expressive code for simple transformations."
   ]
  },
  {
   "cell_type": "code",
   "execution_count": null,
   "id": "a76e56c8",
   "metadata": {},
   "outputs": [],
   "source": []
  }
 ],
 "metadata": {
  "kernelspec": {
   "display_name": "Python 3 (ipykernel)",
   "language": "python",
   "name": "python3"
  },
  "language_info": {
   "codemirror_mode": {
    "name": "ipython",
    "version": 3
   },
   "file_extension": ".py",
   "mimetype": "text/x-python",
   "name": "python",
   "nbconvert_exporter": "python",
   "pygments_lexer": "ipython3",
   "version": "3.9.13"
  }
 },
 "nbformat": 4,
 "nbformat_minor": 5
}
