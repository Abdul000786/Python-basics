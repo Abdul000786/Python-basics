{
 "cells": [
  {
   "cell_type": "markdown",
   "id": "28594742",
   "metadata": {},
   "source": [
    "##Question no.1\n",
    "\n",
    "Functions are advantageous to have in your programs for several reasons:\n",
    "    \n",
    "1. Code reuse: Functions can be reused across different parts of your program or even in multiple programs, saving you time and effort in writing and maintaining similar code.\n",
    "    \n",
    "2. Modularity: Functions allow you to break down complex tasks into smaller, more manageable pieces of code. This promotes code reusability and makes your program easier to understand and maintain.    "
   ]
  },
  {
   "cell_type": "markdown",
   "id": "883df292",
   "metadata": {},
   "source": [
    "##Question no.2\n",
    "\n",
    "The code in a function runs when it is called. When you define a function, you are essentially creating a reusable block of code. The code inside the function executes only when the function is called by its name."
   ]
  },
  {
   "cell_type": "markdown",
   "id": "2fe554a1",
   "metadata": {},
   "source": [
    "##Question no.3\n",
    "\n",
    "The statement that creates a function is the def statement. It is used to define a new function in Python. "
   ]
  },
  {
   "cell_type": "markdown",
   "id": "36e6c0e1",
   "metadata": {},
   "source": [
    "##Question no.4\n",
    "\n",
    "A function is a block of code that performs a specific task and is defined using the def statement. It contains a set of instructions that can be executed when the function is called. On the other hand, a function call is the act of invoking or executing a function. It means using the function's name with appropriate arguments (if any) to execute the code inside the function."
   ]
  },
  {
   "cell_type": "markdown",
   "id": "f296827e",
   "metadata": {},
   "source": [
    "##Question no.5\n",
    "\n",
    "In a Python program, there is one global scope. It represents the outermost level of the program where global variables are defined. Local scopes, on the other hand, are created whenever a function is called. Each function call creates its own local scope where function-specific variables are defined and can only be accessed within that scope"
   ]
  },
  {
   "cell_type": "markdown",
   "id": "7f208e2a",
   "metadata": {},
   "source": [
    "##Question no.6\n",
    "\n",
    "When a function call returns, the local scope and the variables defined within it are destroyed. The variables in the local scope cease to exist, and their values are no longer accessible."
   ]
  },
  {
   "cell_type": "markdown",
   "id": "d78e11ca",
   "metadata": {},
   "source": [
    "##Question no.7\n",
    "\n",
    "The concept of a return value refers to the value that a function gives back when it is called. It is the result or output of the function's execution. A return value allows you to retrieve data or results from a function for further use or processing in your program. Yes, it is possible to have a return value in an expression. You can directly use the return value of a function in an expression or assign it to a variable."
   ]
  },
  {
   "cell_type": "markdown",
   "id": "bc085f6f",
   "metadata": {},
   "source": [
    "##Question no.8\n",
    "\n",
    "If a function does not have a return statement, the return value of a call to that function is None. None is a special value in Python that represents the absence of a value or the null value."
   ]
  },
  {
   "cell_type": "markdown",
   "id": "716d6743",
   "metadata": {},
   "source": [
    "##Question no.9\n",
    "\n",
    "To make a function variable refer to a global variable, you can use the global keyword inside the function. It allows you to indicate that a variable is a global variable rather than a local one. "
   ]
  },
  {
   "cell_type": "markdown",
   "id": "719cacde",
   "metadata": {},
   "source": [
    "##Question no.10\n",
    "\n",
    "The data type of None is NoneType. It represents the absence of a value or the null value in Python."
   ]
  },
  {
   "cell_type": "markdown",
   "id": "832db58a",
   "metadata": {},
   "source": [
    "##Question no.11\n",
    "\n",
    "The sentence import areallyourpetsnamederic is not a valid import statement in Python. It does not correspond to any existing module. Python's import statement is used to import modules, which are files containing Python code that can be reused in other programs."
   ]
  },
  {
   "cell_type": "code",
   "execution_count": null,
   "id": "6d380249",
   "metadata": {},
   "outputs": [],
   "source": [
    "##Question 12\n",
    "\n",
    "import spam\n",
    "\n",
    "spam.bacon()\n"
   ]
  },
  {
   "cell_type": "markdown",
   "id": "f9154cb2",
   "metadata": {},
   "source": [
    "##Questoin no. 13\n",
    "\n",
    "To save a program from crashing if it encounters an error, you can use error handling techniques like exception handling. By using try and except blocks, you can catch and handle specific exceptions, preventing the program from abruptly terminating. Error handling allows you to gracefully handle errors and take appropriate actions, such as displaying error messages, logging, or executing alternative code paths"
   ]
  },
  {
   "cell_type": "markdown",
   "id": "0651b086",
   "metadata": {},
   "source": [
    "##Question no. 14\n",
    "\n",
    "The purpose of the try clause in a try-except block is to enclose the code that might raise an exception. It is used to specify the block of code where an error or exception might occur. The purpose of the except clause is to define the code that should be executed if a specific exception is raised within the preceding try block. It allows you to handle and manage exceptions by providing alternative code paths or error handling mechanisms."
   ]
  },
  {
   "cell_type": "code",
   "execution_count": null,
   "id": "1321644d",
   "metadata": {},
   "outputs": [],
   "source": []
  }
 ],
 "metadata": {
  "kernelspec": {
   "display_name": "Python 3 (ipykernel)",
   "language": "python",
   "name": "python3"
  },
  "language_info": {
   "codemirror_mode": {
    "name": "ipython",
    "version": 3
   },
   "file_extension": ".py",
   "mimetype": "text/x-python",
   "name": "python",
   "nbconvert_exporter": "python",
   "pygments_lexer": "ipython3",
   "version": "3.9.13"
  }
 },
 "nbformat": 4,
 "nbformat_minor": 5
}
