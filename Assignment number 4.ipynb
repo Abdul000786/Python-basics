{
 "cells": [
  {
   "cell_type": "markdown",
   "id": "a33dc7ca",
   "metadata": {},
   "source": [
    "##Question no.1 \n",
    "\n",
    "In Python, [] represents an empty list. It is a data structure used to store multiple values in a single variable. Lists are mutable, ordered, and can contain elements of different data types."
   ]
  },
  {
   "cell_type": "code",
   "execution_count": 3,
   "id": "ea9eafee",
   "metadata": {},
   "outputs": [
    {
     "data": {
      "text/plain": [
       "[2, 4, 'hello', 8, 10]"
      ]
     },
     "execution_count": 3,
     "metadata": {},
     "output_type": "execute_result"
    }
   ],
   "source": [
    "##Question no.2\n",
    "spam = [2, 4, 6, 8, 10]\n",
    "spam[2] = 'hello'\n",
    "spam"
   ]
  },
  {
   "cell_type": "code",
   "execution_count": 7,
   "id": "cf98aeda",
   "metadata": {},
   "outputs": [
    {
     "data": {
      "text/plain": [
       "'d'"
      ]
     },
     "execution_count": 7,
     "metadata": {},
     "output_type": "execute_result"
    }
   ],
   "source": [
    "##Question no.3\n",
    "spam=['a','b','c','d']\n",
    "spam[int(int('3' * 2) / 11)] "
   ]
  },
  {
   "cell_type": "code",
   "execution_count": 9,
   "id": "30b85499",
   "metadata": {},
   "outputs": [
    {
     "data": {
      "text/plain": [
       "'d'"
      ]
     },
     "execution_count": 9,
     "metadata": {},
     "output_type": "execute_result"
    }
   ],
   "source": [
    "##Question no.4\n",
    "\n",
    "spam[-1]\n"
   ]
  },
  {
   "cell_type": "code",
   "execution_count": 10,
   "id": "a3073995",
   "metadata": {},
   "outputs": [
    {
     "data": {
      "text/plain": [
       "['a', 'b']"
      ]
     },
     "execution_count": 10,
     "metadata": {},
     "output_type": "execute_result"
    }
   ],
   "source": [
    "##Question no.5\n",
    "\n",
    "spam[:2] "
   ]
  },
  {
   "cell_type": "code",
   "execution_count": 18,
   "id": "b3692df6",
   "metadata": {},
   "outputs": [
    {
     "data": {
      "text/plain": [
       "1"
      ]
     },
     "execution_count": 18,
     "metadata": {},
     "output_type": "execute_result"
    }
   ],
   "source": [
    "##Question no.6\n",
    "bacon=[3.14,'cat',11,'cat',True]\n",
    "\n",
    "bacon.index('cat')"
   ]
  },
  {
   "cell_type": "code",
   "execution_count": 19,
   "id": "c448d5bc",
   "metadata": {},
   "outputs": [
    {
     "data": {
      "text/plain": [
       "[3.14, 'cat', 11, 'cat', True, 99]"
      ]
     },
     "execution_count": 19,
     "metadata": {},
     "output_type": "execute_result"
    }
   ],
   "source": [
    "##Question no.7\n",
    "bacon.append(99)\n",
    "bacon"
   ]
  },
  {
   "cell_type": "code",
   "execution_count": 21,
   "id": "b12e6a65",
   "metadata": {},
   "outputs": [
    {
     "data": {
      "text/plain": [
       "[3.14, 11, True, 99]"
      ]
     },
     "execution_count": 21,
     "metadata": {},
     "output_type": "execute_result"
    }
   ],
   "source": [
    "##Question no.8\n",
    "bacon.remove('cat')\n",
    "bacon"
   ]
  },
  {
   "cell_type": "markdown",
   "id": "65458b44",
   "metadata": {},
   "source": [
    "##Question no.9 \n",
    "\n",
    "The list concatenation operator is +, which is used to combine two lists into a single list. The list replication operator is *, which is used to create a new list by repeating an existing list a specified number of times."
   ]
  },
  {
   "cell_type": "markdown",
   "id": "206a5231",
   "metadata": {},
   "source": [
    "##Question no.10\n",
    "\n",
    "The append() method is used to add an element to the end of a list. It does not require specifying an index. The insert() method is used to add an element at a specific index in a list, shifting the existing elements to accommodate the new element."
   ]
  },
  {
   "cell_type": "markdown",
   "id": "c6232e1f",
   "metadata": {},
   "source": [
    "##Question 11\n",
    "\n",
    "The two methods for removing items from a list are:\n",
    "\n",
    "1. The remove() method is used to remove the first occurrence of a specific value from a list.\n",
    "2. The pop() method is used to remove an element from a specific index in a list. If no index is specified, it removes the last element."
   ]
  },
  {
   "cell_type": "markdown",
   "id": "23c84cbd",
   "metadata": {},
   "source": [
    "##Question 12\n",
    "\n",
    "List values and string values are similar in that they both represent sequences of elements. Both can be indexed and sliced. However, they differ in that list values can contain elements of different data types and are mutable (can be modified), while string values contain characters and are immutable (cannot be modified)."
   ]
  },
  {
   "cell_type": "markdown",
   "id": "d20fbf1d",
   "metadata": {},
   "source": [
    "##Question 13\n",
    "\n",
    "Tuples and lists are both sequence data types in Python. The main difference is that lists are mutable, meaning their elements can be modified, added, or removed, while tuples are immutable and their elements cannot be changed once created. Tuples are typically used to represent collections of items that should not be modified."
   ]
  },
  {
   "cell_type": "code",
   "execution_count": 23,
   "id": "d34a8424",
   "metadata": {},
   "outputs": [
    {
     "data": {
      "text/plain": [
       "(42,)"
      ]
     },
     "execution_count": 23,
     "metadata": {},
     "output_type": "execute_result"
    }
   ],
   "source": [
    "##Question 14\n",
    "\n",
    "my_tuple = (42,)\n",
    "my_tuple\n"
   ]
  },
  {
   "cell_type": "code",
   "execution_count": 27,
   "id": "64f79330",
   "metadata": {},
   "outputs": [
    {
     "name": "stdout",
     "output_type": "stream",
     "text": [
      "(1, 2, 3)\n",
      "[1, 2, 3]\n"
     ]
    }
   ],
   "source": [
    "##Question 15\n",
    "\n",
    "l = [1, 2, 3]\n",
    "t = tuple(l)  # Converts the list to a tuple\n",
    "print(t)\n",
    "t = (1, 2, 3)\n",
    "l = list(t)  # Converts the tuple to a list\n",
    "print(l)"
   ]
  },
  {
   "cell_type": "markdown",
   "id": "ac1127b8",
   "metadata": {},
   "source": [
    "##Question 16\n",
    "\n",
    "Variables that \"contain\" list values are actually storing references to the list objects in memory. In Python, variables are like labels or pointers that point to the memory location where the list is stored. When you assign a list to a variable or pass it as a parameter to a function, the variable references the list object rather than directly containing the list elements.\n",
    "\n"
   ]
  },
  {
   "cell_type": "markdown",
   "id": "1720434a",
   "metadata": {},
   "source": [
    "##Question 17\n",
    "\n",
    "The copy.copy() function performs a shallow copy of a list, creating a new list object with references to the original elements. Modifying the elements of the copied list will affect the original list. In contrast, copy.deepcopy() performs a deep copy of a list, creating a completely independent new list object with its own copies of the original elements. Modifying the elements of the copied list will not affect the original list."
   ]
  },
  {
   "cell_type": "code",
   "execution_count": null,
   "id": "fd8b96ab",
   "metadata": {},
   "outputs": [],
   "source": []
  }
 ],
 "metadata": {
  "kernelspec": {
   "display_name": "Python 3 (ipykernel)",
   "language": "python",
   "name": "python3"
  },
  "language_info": {
   "codemirror_mode": {
    "name": "ipython",
    "version": 3
   },
   "file_extension": ".py",
   "mimetype": "text/x-python",
   "name": "python",
   "nbconvert_exporter": "python",
   "pygments_lexer": "ipython3",
   "version": "3.9.13"
  }
 },
 "nbformat": 4,
 "nbformat_minor": 5
}
