{
 "cells": [
  {
   "cell_type": "markdown",
   "id": "a0649355",
   "metadata": {},
   "source": [
    "##Question no.1\n",
    "\n",
    "An empty dictionary is represented by a pair of curly braces { }"
   ]
  },
  {
   "cell_type": "markdown",
   "id": "b70d87f0",
   "metadata": {},
   "source": [
    "##Question no.2\n",
    "\n",
    "the key 'foo' and the value 42 would be { 'foo': 42 }"
   ]
  },
  {
   "cell_type": "markdown",
   "id": "46f95379",
   "metadata": {},
   "source": [
    "##Question no.3\n",
    "\n",
    "The most significant distinction between a dictionary and a list is the way they store and retrieve data. A dictionary is an unordered collection of key-value pairs, where each key is unique and associated with a value. On the other hand, a list is an ordered collection of elements that can be accessed by their index"
   ]
  },
  {
   "cell_type": "markdown",
   "id": "5b203ae1",
   "metadata": {},
   "source": [
    "##Question no.4\n",
    "\n",
    "If you try to access spam['foo'] and spam is { 'bar': 100 }, it will raise a KeyError. This error occurs because the key 'foo' does not exist in the dictionary spa\n"
   ]
  },
  {
   "cell_type": "markdown",
   "id": "75b55ea2",
   "metadata": {},
   "source": [
    "##Question no.5\n",
    "\n",
    "If a dictionary is stored in spam, the expression 'cat' in spam checks if the key 'cat' exists in the dictionary. It returns True if the key is present and False otherwise. On the other hand, the expression 'cat' in spam.keys() also checks if the key 'cat' exists in the dictionary, but specifically looks in the keys of the dictionary. It has the same result as 'cat' in spam."
   ]
  },
  {
   "cell_type": "markdown",
   "id": "ff0f78df",
   "metadata": {},
   "source": [
    "##Questoin no.6\n",
    "\n",
    "If a dictionary is stored in spam, the expression 'cat' in spam checks if the key 'cat' exists in the dictionary. It returns True if the key is present and False otherwise. However, the expression 'cat' in spam.values() checks if the value 'cat' exists in the dictionary. It returns True if the value is present in any of the dictionary's values and False otherwise."
   ]
  },
  {
   "cell_type": "code",
   "execution_count": 1,
   "id": "1a72c935",
   "metadata": {},
   "outputs": [
    {
     "name": "stdout",
     "output_type": "stream",
     "text": [
      "{'bar': 100, 'color': 'black'}\n"
     ]
    }
   ],
   "source": [
    "##Question no.7\n",
    "\n",
    "spam={'bar':100}\n",
    "\n",
    "spam.setdefault('color','black')\n",
    "print(spam)"
   ]
  },
  {
   "cell_type": "code",
   "execution_count": 3,
   "id": "261767c1",
   "metadata": {},
   "outputs": [
    {
     "name": "stdout",
     "output_type": "stream",
     "text": [
      "{'city': 'New York', 'name': 'abdul'}\n"
     ]
    }
   ],
   "source": [
    "##Question no.8\n",
    "\n",
    "import pprint\n",
    "\n",
    "dict = {'name': 'abdul',  'city': 'New York'}\n",
    "pprint.pprint(dict)\n"
   ]
  },
  {
   "cell_type": "code",
   "execution_count": null,
   "id": "f2638a28",
   "metadata": {},
   "outputs": [],
   "source": []
  }
 ],
 "metadata": {
  "kernelspec": {
   "display_name": "Python 3 (ipykernel)",
   "language": "python",
   "name": "python3"
  },
  "language_info": {
   "codemirror_mode": {
    "name": "ipython",
    "version": 3
   },
   "file_extension": ".py",
   "mimetype": "text/x-python",
   "name": "python",
   "nbconvert_exporter": "python",
   "pygments_lexer": "ipython3",
   "version": "3.9.13"
  }
 },
 "nbformat": 4,
 "nbformat_minor": 5
}
