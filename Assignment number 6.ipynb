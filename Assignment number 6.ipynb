{
 "cells": [
  {
   "cell_type": "markdown",
   "id": "76dac118",
   "metadata": {},
   "source": [
    "##Question no.1\n",
    "\n",
    "Escape characters are special characters used to represent certain actions or characters that cannot be easily typed or displayed. They are denoted by a backslash (\\) followed by a specific character or sequence. For example, \\n represents a newline character. Escape characters are used to include special characters, control sequences, or characters with special meaning in strings."
   ]
  },
  {
   "cell_type": "markdown",
   "id": "624e3a67",
   "metadata": {},
   "source": [
    "##Question no.2\n",
    "\n",
    " the escape character \\n stands for a newline character, and \\t stands for a tab character."
   ]
  },
  {
   "cell_type": "markdown",
   "id": "61395964",
   "metadata": {},
   "source": [
    "##Question no.3\n",
    "\n",
    "To include a backslash character (\\) in a string, you need to use a double backslash (\\\\). This is because the backslash itself is an escape character, so to represent a literal backslash, you need to escape it with another backslash."
   ]
  },
  {
   "cell_type": "markdown",
   "id": "525e44c5",
   "metadata": {},
   "source": [
    "##Question no.4\n",
    "\n",
    "The string \"Howl's Moving Castle\" is a correct value because the single quote character in the word \"Howl's\" does not need to be escaped. In Python, you can use either single quotes (') or double quotes (\") to define strings. So, when a string is enclosed in double quotes, it can contain single quotes without any issues, and vice versa"
   ]
  },
  {
   "cell_type": "code",
   "execution_count": 2,
   "id": "59e86f61",
   "metadata": {},
   "outputs": [
    {
     "data": {
      "text/plain": [
       "'This is a string\\nwith multiple lines.'"
      ]
     },
     "execution_count": 2,
     "metadata": {},
     "output_type": "execute_result"
    }
   ],
   "source": [
    "##Question no.5\n",
    "\n",
    "my_string = '''This is a string\n",
    "with multiple lines.'''\n",
    "my_string"
   ]
  },
  {
   "cell_type": "code",
   "execution_count": 10,
   "id": "c7c70506",
   "metadata": {},
   "outputs": [
    {
     "name": "stdout",
     "output_type": "stream",
     "text": [
      "e\n",
      "Hello\n",
      "Hello\n",
      "lo, world!\n"
     ]
    }
   ],
   "source": [
    "##Question no.6\n",
    "\n",
    "print('Hello, world!'[1])\n",
    "print('Hello, world!'[0:5])\n",
    "print('Hello, world!'[:5])\n",
    "print('Hello, world!'[3:])"
   ]
  },
  {
   "cell_type": "code",
   "execution_count": 14,
   "id": "9a59a395",
   "metadata": {},
   "outputs": [
    {
     "name": "stdout",
     "output_type": "stream",
     "text": [
      "HELLO\n",
      "True\n",
      "hello\n"
     ]
    }
   ],
   "source": [
    "##Question no.7\n",
    "\n",
    "print('Hello'.upper())\n",
    "print('Hello'.upper().isupper())\n",
    "print('Hello'.upper().lower())"
   ]
  },
  {
   "cell_type": "code",
   "execution_count": 17,
   "id": "633960e7",
   "metadata": {},
   "outputs": [
    {
     "name": "stdout",
     "output_type": "stream",
     "text": [
      "['Remember,', 'remember,', 'the', 'fifth', 'of', 'July.']\n",
      "There-can-only-one.\n"
     ]
    }
   ],
   "source": [
    "##Question no.8\n",
    "print('Remember, remember, the fifth of July.'.split())\n",
    "print('-'.join('There can only one.'.split()))"
   ]
  },
  {
   "cell_type": "markdown",
   "id": "2c43841c",
   "metadata": {},
   "source": [
    "##Question no.9\n",
    "\n",
    "The methods for right-justifying, left-justifying, and centering a string are:\n",
    "\n",
    "1. Right-justifying: The str.rjust(width, fillchar) method right-justifies the string within a field of the specified width by padding it with the specified fill character on the left.\n",
    "2. Left-justifying: The str.ljust(width, fillchar) method left-justifies the string within a field of the specified width by padding it with the specified fill character on the right.\n",
    "3. Centering: The str.center(width, fillchar) method centers the string within a field of the specified width by padding it with the specified fill character on both sides"
   ]
  },
  {
   "cell_type": "markdown",
   "id": "166b399d",
   "metadata": {},
   "source": [
    "##Question no.10\n",
    "\n",
    "The best way to remove whitespace characters from the start or end of a string is by using the str.strip() method. It removes leading and trailing whitespace characters (spaces, tabs, newlines) from the string. If you only want to remove leading or trailing whitespace, you can use str.lstrip() or str.rstrip() respectively."
   ]
  },
  {
   "cell_type": "code",
   "execution_count": null,
   "id": "bd16a0c7",
   "metadata": {},
   "outputs": [],
   "source": []
  }
 ],
 "metadata": {
  "kernelspec": {
   "display_name": "Python 3 (ipykernel)",
   "language": "python",
   "name": "python3"
  },
  "language_info": {
   "codemirror_mode": {
    "name": "ipython",
    "version": 3
   },
   "file_extension": ".py",
   "mimetype": "text/x-python",
   "name": "python",
   "nbconvert_exporter": "python",
   "pygments_lexer": "ipython3",
   "version": "3.9.13"
  }
 },
 "nbformat": 4,
 "nbformat_minor": 5
}
