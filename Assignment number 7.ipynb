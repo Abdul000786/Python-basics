{
 "cells": [
  {
   "cell_type": "markdown",
   "id": "7cb50674",
   "metadata": {},
   "source": [
    "##Question no.1\n",
    "\n",
    "The feature responsible for generating Regex objects is the re module in Python. You can import this module to work with regular expressions"
   ]
  },
  {
   "cell_type": "markdown",
   "id": "b01afb7e",
   "metadata": {},
   "source": [
    "##Question no.2\n",
    "\n",
    "Raw strings (prefixed with r) are often used in Regex objects to avoid escaping special characters. In regular expressions, backslashes (\\) are used to escape special characters, but in raw strings, they are treated as literal characters. Since regular expressions often contain backslashes to represent special characters, using raw strings helps avoid double escaping and makes the patterns more readable"
   ]
  },
  {
   "cell_type": "markdown",
   "id": "89ae42f3",
   "metadata": {},
   "source": [
    "##Question no.3\n",
    "\n",
    "The search() method of a Regex object returns a Match object if the pattern is found in the searched string. If no match is found, it returns None."
   ]
  },
  {
   "cell_type": "markdown",
   "id": "061ceaf0",
   "metadata": {},
   "source": [
    "##Question no.4\n",
    "\n",
    "From a Match object, you can get the actual strings that match the pattern using the group() method. Calling group() without any arguments returns the entire matched string. You can also use group(n) to get the string that matches the specified capture group, where n is the group number."
   ]
  },
  {
   "cell_type": "markdown",
   "id": "40a23eb2",
   "metadata": {},
   "source": [
    "##Question no.5\n",
    "\n",
    "In the regex created from r'(\\d\\d\\d)-(\\d\\d\\d-\\d\\d\\d\\d)', Group 0 covers the entire matched string. Group 1 covers the first set of three digits before the hyphen, and Group 2 covers the second set of three digits after the hyphen."
   ]
  },
  {
   "cell_type": "markdown",
   "id": "6738bd19",
   "metadata": {},
   "source": [
    "##Question no.6\n",
    "\n",
    "In standard expression syntax, to match real parentheses and periods, you can escape them with a backslash (\\). For example, to match a literal opening parenthesis, you would use \\(, and to match a literal period, you would use \\."
   ]
  },
  {
   "cell_type": "markdown",
   "id": "abf75cad",
   "metadata": {},
   "source": [
    "##Question no.7\n",
    "\n",
    "The findall() method returns a list of all non-overlapping matches of the pattern in the searched string. If the pattern contains capturing groups, it returns a list of tuples where each tuple represents a match and contains the captured groups. If the pattern has no capturing groups, it returns a list of strings."
   ]
  },
  {
   "cell_type": "markdown",
   "id": "fc8fac8f",
   "metadata": {},
   "source": [
    "##Question no.8\n",
    "\n",
    "In standard expressions, the | character acts as the OR operator. It is used to match either the expression on its left or the expression on its right. For example, A|B will match either 'A' or 'B'."
   ]
  },
  {
   "cell_type": "markdown",
   "id": "5d3902e8",
   "metadata": {},
   "source": [
    "##Question no.9\n",
    "\n",
    "In regular expressions, the . character (dot) represents any character except a newline. It is used to match any single character except for a newline character"
   ]
  },
  {
   "cell_type": "markdown",
   "id": "1bd73955",
   "metadata": {},
   "source": [
    "##Question no.10\n",
    "\n",
    "In regular expressions, the + character is a quantifier that matches one or more occurrences of the preceding element. It requires at least one occurrence of the element. On the other hand, the * character is also a quantifier but matches zero or more occurrences of the preceding element. It allows for zero occurrences of the element."
   ]
  },
  {
   "cell_type": "markdown",
   "id": "733828cf",
   "metadata": {},
   "source": [
    "##Question no.11\n",
    "\n",
    "In regular expressions, {4} specifies an exact repetition of the preceding element four times. It matches exactly four occurrences. {4,5} specifies a range of repetitions, matching the preceding element between four and five times, inclusive."
   ]
  },
  {
   "cell_type": "markdown",
   "id": "ae4eb956",
   "metadata": {},
   "source": [
    "##Question no.12\n",
    "\n",
    "In regular expressions, the shorthand character class \\d matches any digit (0-9). The shorthand character class \\w matches any alphanumeric character (letter, digit, or underscore). The shorthand character class \\s matches any whitespace character (space, tab, newline)."
   ]
  },
  {
   "cell_type": "markdown",
   "id": "565ffab5",
   "metadata": {},
   "source": [
    "##Question no.13\n",
    "\n",
    "In regular expressions, the shorthand character class \\D matches any non-digit character. The shorthand character class \\W matches any non-alphanumeric character. The shorthand character class \\S matches any non-whitespace character."
   ]
  },
  {
   "cell_type": "markdown",
   "id": "b7878cfd",
   "metadata": {},
   "source": [
    "##Question no.14\n",
    "\n",
    "The difference between .*? and .* is in their matching behavior. .*? is a non-greedy match and will match as few characters as possible. .* is a greedy match and will match as many characters as possible. The ? after .* makes it non-greedy."
   ]
  },
  {
   "cell_type": "markdown",
   "id": "bb65b178",
   "metadata": {},
   "source": [
    "##Question no.15\n",
    "\n",
    "To match both numbers and lowercase letters, you can use a character class. The syntax for a character class is [...], where you can specify the allowed characters. To match numbers and lowercase letters, you can use [0-9a-z]"
   ]
  },
  {
   "cell_type": "markdown",
   "id": "915103e4",
   "metadata": {},
   "source": [
    "##Question no.16\n",
    "\n",
    "To make a normal expression in regex case-insensitive, you can pass the re.IGNORECASE or re.I flag as the second argument to re.compile(). For example, regex = re.compile(pattern, re.IGNORECASE)"
   ]
  },
  {
   "cell_type": "markdown",
   "id": "1702b279",
   "metadata": {},
   "source": [
    "##Question no. 17\n",
    "\n",
    "In regular expressions, the . character normally matches any character except a newline. However, if the re.DOTALL flag is passed as the second argument to re.compile(), the . character will match any character including a newline"
   ]
  },
  {
   "cell_type": "code",
   "execution_count": 23,
   "id": "4ee41ecb",
   "metadata": {},
   "outputs": [
    {
     "name": "stdout",
     "output_type": "stream",
     "text": [
      "X drummers, X pipers, five rings, X hen\n"
     ]
    }
   ],
   "source": [
    "##Question no.18\n",
    "\n",
    "import re\n",
    "\n",
    "numRegex = re.compile(r'\\d+')\n",
    "result = numRegex.sub('X', '11 drummers, 10 pipers, five rings, 4 hen')\n",
    "print(result)\n"
   ]
  },
  {
   "cell_type": "markdown",
   "id": "5e5704a8",
   "metadata": {},
   "source": [
    "##Question no.19\n",
    "\n",
    "Passing re.VERBOSE as the second argument to re.compile() allows you to use verbose mode in regular expressions. It allows you to write more readable and well-structured regex patterns by ignoring whitespace and adding comments within the pattern."
   ]
  },
  {
   "cell_type": "code",
   "execution_count": 24,
   "id": "db678146",
   "metadata": {},
   "outputs": [
    {
     "name": "stdout",
     "output_type": "stream",
     "text": [
      "'42' is a match\n",
      "'1,234' is a match\n",
      "'6,368,745' is a match\n",
      "'12,34,567' is not a match\n",
      "'1234' is not a match\n"
     ]
    }
   ],
   "source": [
    "##Question no.20\n",
    "\n",
    "import re\n",
    "\n",
    "pattern = r'^\\d{1,3}(,\\d{3})*$'\n",
    "\n",
    "test_cases = ['42', '1,234', '6,368,745', '12,34,567', '1234']\n",
    "\n",
    "for test_case in test_cases:\n",
    "    if re.match(pattern, test_case):\n",
    "        print(f\"'{test_case}' is a match\")\n",
    "    else:\n",
    "        print(f\"'{test_case}' is not a match\")\n"
   ]
  },
  {
   "cell_type": "code",
   "execution_count": 25,
   "id": "f25f56d8",
   "metadata": {},
   "outputs": [
    {
     "name": "stdout",
     "output_type": "stream",
     "text": [
      "'Haruto Watanabe' is a match\n",
      "'Alice Watanabe' is a match\n",
      "'RoboCop Watanabe' is a match\n",
      "'haruto Watanabe' is not a match\n",
      "'Mr. Watanabe' is not a match\n",
      "'Watanabe' is not a match\n",
      "'Haruto watanabe' is not a match\n"
     ]
    }
   ],
   "source": [
    "##Question no.21\n",
    "\n",
    "import re\n",
    "\n",
    "pattern = r'^[A-Z][a-zA-Z]* Watanabe$'\n",
    "\n",
    "test_cases = ['Haruto Watanabe', 'Alice Watanabe', 'RoboCop Watanabe',\n",
    "              'haruto Watanabe', 'Mr. Watanabe', 'Watanabe', 'Haruto watanabe']\n",
    "\n",
    "for test_case in test_cases:\n",
    "    if re.match(pattern, test_case):\n",
    "        print(f\"'{test_case}' is a match\")\n",
    "    else:\n",
    "        print(f\"'{test_case}' is not a match\")\n"
   ]
  },
  {
   "cell_type": "code",
   "execution_count": 26,
   "id": "d9d4622c",
   "metadata": {},
   "outputs": [
    {
     "name": "stdout",
     "output_type": "stream",
     "text": [
      "'Alice eats apples.' is a match\n",
      "'Bob pets cats.' is a match\n",
      "'Carol throws baseballs.' is a match\n",
      "'Alice throws Apples.' is a match\n",
      "'BOB EATS CATS.' is a match\n",
      "'RoboCop eats apples.' is not a match\n",
      "'ALICE THROWS FOOTBALLS.' is not a match\n",
      "'Carol eats 7 cats.' is not a match\n"
     ]
    }
   ],
   "source": [
    "##Question no.22\n",
    "\n",
    "import re\n",
    "\n",
    "pattern = r'^(Alice|Bob|Carol) (eats|pets|throws) (apples|cats|baseballs)\\.$'\n",
    "\n",
    "test_cases = ['Alice eats apples.', 'Bob pets cats.', 'Carol throws baseballs.',\n",
    "              'Alice throws Apples.', 'BOB EATS CATS.', 'RoboCop eats apples.',\n",
    "              'ALICE THROWS FOOTBALLS.', 'Carol eats 7 cats.']\n",
    "\n",
    "for test_case in test_cases:\n",
    "    if re.match(pattern, test_case, re.IGNORECASE):\n",
    "        print(f\"'{test_case}' is a match\")\n",
    "    else:\n",
    "        print(f\"'{test_case}' is not a match\")\n"
   ]
  },
  {
   "cell_type": "code",
   "execution_count": null,
   "id": "a8159d8a",
   "metadata": {},
   "outputs": [],
   "source": []
  }
 ],
 "metadata": {
  "kernelspec": {
   "display_name": "Python 3 (ipykernel)",
   "language": "python",
   "name": "python3"
  },
  "language_info": {
   "codemirror_mode": {
    "name": "ipython",
    "version": 3
   },
   "file_extension": ".py",
   "mimetype": "text/x-python",
   "name": "python",
   "nbconvert_exporter": "python",
   "pygments_lexer": "ipython3",
   "version": "3.9.13"
  }
 },
 "nbformat": 4,
 "nbformat_minor": 5
}
