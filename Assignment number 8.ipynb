{
 "cells": [
  {
   "cell_type": "markdown",
   "id": "006b757c",
   "metadata": {},
   "source": [
    "##Question no.1\n",
    "\n",
    "No, the Python Standard Library is not included with PyInputPlus. The Python Standard Library is a collection of modules that come bundled with Python, providing a wide range of functionalities. PyInputPlus is a separate third-party library that extends the functionality of the built-in input() function."
   ]
  },
  {
   "cell_type": "markdown",
   "id": "5406e3f6",
   "metadata": {},
   "source": [
    "##Question no.2\n",
    "\n",
    "PyInputPlus is commonly imported with the alias pypi for convenience and brevity. Using import pyinputplus as pypi, you can refer to the PyInputPlus library as pypi in your code, making it easier to use the library's functions and methods."
   ]
  },
  {
   "cell_type": "markdown",
   "id": "2cdf0b1b",
   "metadata": {},
   "source": [
    "##Question no.3\n",
    "\n",
    "1. inputInt() is used to prompt the user for an integer input and returns the user's input as an integer.\n",
    "2. inputFloat() is used to prompt the user for a floating-point number input and returns the user's input as a float."
   ]
  },
  {
   "cell_type": "code",
   "execution_count": 11,
   "id": "41cd3420",
   "metadata": {},
   "outputs": [
    {
     "name": "stderr",
     "output_type": "stream",
     "text": [
      "\n",
      "[notice] A new release of pip is available: 23.0.1 -> 23.1.2\n",
      "[notice] To update, run: python.exe -m pip install --upgrade pip\n"
     ]
    },
    {
     "name": "stdout",
     "output_type": "stream",
     "text": [
      "Requirement already satisfied: pyinputplus in c:\\programdata\\anaconda3\\lib\\site-packages (0.2.12)\n",
      "Requirement already satisfied: stdiomask>=0.0.3 in c:\\programdata\\anaconda3\\lib\\site-packages (from pyinputplus) (0.0.6)\n",
      "Requirement already satisfied: pysimplevalidate>=0.2.7 in c:\\programdata\\anaconda3\\lib\\site-packages (from pyinputplus) (0.2.12)\n",
      "Enter a number: 67\n"
     ]
    }
   ],
   "source": [
    "##Question no.4\n",
    "!pip install pyinputplus\n",
    "\n",
    "import pyinputplus as pypi\n",
    "num = pypi.inputInt(prompt='Enter a number: ', min=0, max=99)\n"
   ]
  },
  {
   "cell_type": "markdown",
   "id": "20d32838",
   "metadata": {},
   "source": [
    "##Question no. 5\n",
    "\n",
    "The keyword arguments allowRegexes and blockRegexes in PyInputPlus allow you to specify regular expressions to define patterns that are either allowed or blocked in user input. allowRegexes is a list of regular expressions. If any of the regular expressions in allowRegexes match the input, it is considered valid. On the other hand, blockRegexes is a list of regular expressions. If any of the regular expressions in blockRegexes match the input, it is considered invalid."
   ]
  },
  {
   "cell_type": "markdown",
   "id": "6437b702",
   "metadata": {},
   "source": [
    "##Question no. 6\n",
    "\n",
    "If a blank input is entered three times with inputStr(limit=3), PyInputPlus raises a ValidationException after three failed attempts. This means that if the user does not provide any input within the specified limit, an exception is raised."
   ]
  },
  {
   "cell_type": "markdown",
   "id": "1862812d",
   "metadata": {},
   "source": [
    "##Question no.7\n",
    "\n",
    "If a blank input is entered three times with inputStr(limit=3, default='hello'), the function inputStr() will return the default value 'hello' after three failed attempts. This means that if the user does not provide any input within the specified limit, the default value will be returned instead of raising an exception."
   ]
  },
  {
   "cell_type": "code",
   "execution_count": null,
   "id": "7bf0afea",
   "metadata": {},
   "outputs": [],
   "source": []
  }
 ],
 "metadata": {
  "kernelspec": {
   "display_name": "Python 3 (ipykernel)",
   "language": "python",
   "name": "python3"
  },
  "language_info": {
   "codemirror_mode": {
    "name": "ipython",
    "version": 3
   },
   "file_extension": ".py",
   "mimetype": "text/x-python",
   "name": "python",
   "nbconvert_exporter": "python",
   "pygments_lexer": "ipython3",
   "version": "3.9.13"
  }
 },
 "nbformat": 4,
 "nbformat_minor": 5
}
