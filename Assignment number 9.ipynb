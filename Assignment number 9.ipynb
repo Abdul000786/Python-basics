{
 "cells": [
  {
   "cell_type": "markdown",
   "id": "8ece1e19",
   "metadata": {},
   "source": [
    "##Question no.1\n",
    "\n",
    "A relative path refers to the location of a file or directory relative to the current working directory.\n"
   ]
  },
  {
   "cell_type": "markdown",
   "id": "8424bfef",
   "metadata": {},
   "source": [
    "##Question no.2\n",
    "\n",
    "An absolute path starts with the root directory of the operating system. In Windows, an absolute path starts with a drive letter (e.g., C:) or a UNC path (e.g., \\server\\share). "
   ]
  },
  {
   "cell_type": "markdown",
   "id": "092e99f1",
   "metadata": {},
   "source": [
    "##Question no.3\n",
    "\n",
    "1. The function os.getcwd() returns the current working directory, which is the directory that the Python script is currently executing in. \n",
    "2. The function os.chdir() is used to change the current working directory to the specified directory."
   ]
  },
  {
   "cell_type": "markdown",
   "id": "4ddfc0da",
   "metadata": {},
   "source": [
    "##Question no.4\n",
    "\n",
    "The . (dot) folder refers to the current directory, and the .. (double dot) folder refers to the parent directory."
   ]
  },
  {
   "cell_type": "markdown",
   "id": "960b033d",
   "metadata": {},
   "source": [
    "##Question no.5\n",
    "\n",
    "1. In the path C:\\bacon\\eggs\\spam.txt\n",
    "2. the directory name (dir name) is C:\\bacon\\eggs, and the base name is spam.txt."
   ]
  },
  {
   "cell_type": "markdown",
   "id": "085cc332",
   "metadata": {},
   "source": [
    "##Question no.6\n",
    "\n",
    "The three \"mode\" arguments that can be passed to the open() function are:\n",
    "1. 'r': Read mode - opens the file for reading.\n",
    "2. 'w': Write mode - opens the file for writing. If the file does not exist, it creates a new file. If the file exists, it truncates the file to zero length.\n",
    "3. 'a': Append mode - opens the file for appending. If the file does not exist, it creates a new file."
   ]
  },
  {
   "cell_type": "markdown",
   "id": "e90e3044",
   "metadata": {},
   "source": [
    "##Question no.7\n",
    "\n",
    "If an existing file is opened in write mode ('w'), the file's contents will be truncated to zero length, and you can start writing from the beginning of the file. Any existing data in the file will be erased."
   ]
  },
  {
   "cell_type": "markdown",
   "id": "869adcd8",
   "metadata": {},
   "source": [
    "##Question no.8\n",
    "\n",
    "1. The read() method reads the entire contents of a file as a single string,\n",
    "2. while the readlines() method reads the contents of a file line by line and returns a list where each line is an element in the list.\n"
   ]
  },
  {
   "cell_type": "markdown",
   "id": "70810d53",
   "metadata": {},
   "source": [
    "##Question no.9\n",
    "\n",
    "A shelf value in Python resembles a dictionary data structure. It allows you to store and retrieve key-value pairs, similar to how a dictionary allows you to store and retrieve values based on keys. However, a shelf value is stored in a persistent storage file on the disk and can be accessed across multiple program executions."
   ]
  },
  {
   "cell_type": "code",
   "execution_count": null,
   "id": "30867c30",
   "metadata": {},
   "outputs": [],
   "source": []
  }
 ],
 "metadata": {
  "kernelspec": {
   "display_name": "Python 3 (ipykernel)",
   "language": "python",
   "name": "python3"
  },
  "language_info": {
   "codemirror_mode": {
    "name": "ipython",
    "version": 3
   },
   "file_extension": ".py",
   "mimetype": "text/x-python",
   "name": "python",
   "nbconvert_exporter": "python",
   "pygments_lexer": "ipython3",
   "version": "3.9.13"
  }
 },
 "nbformat": 4,
 "nbformat_minor": 5
}
