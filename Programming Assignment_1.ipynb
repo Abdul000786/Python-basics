{
 "cells": [
  {
   "cell_type": "code",
   "execution_count": 7,
   "id": "b75754f4",
   "metadata": {},
   "outputs": [
    {
     "name": "stdout",
     "output_type": "stream",
     "text": [
      "Hello Python\n"
     ]
    }
   ],
   "source": [
    "##Question no.1\n",
    "\n",
    "print(\"Hello Python\")\n"
   ]
  },
  {
   "cell_type": "code",
   "execution_count": 9,
   "id": "7c2fe7cc",
   "metadata": {},
   "outputs": [
    {
     "name": "stdout",
     "output_type": "stream",
     "text": [
      "Sum: 3\n",
      "Division: 0.5\n"
     ]
    }
   ],
   "source": [
    "##Question no.2\n",
    "\n",
    "# Addition\n",
    "num1 = 1\n",
    "num2 = 2\n",
    "sum_result = num1 + num2\n",
    "print(\"Sum:\", sum_result)\n",
    "\n",
    "# Division\n",
    "num3 = 1\n",
    "num4 = 2\n",
    "div_result = num3 / num4\n",
    "print(\"Division:\", div_result)\n",
    "\n"
   ]
  },
  {
   "cell_type": "code",
   "execution_count": 10,
   "id": "fccd6424",
   "metadata": {},
   "outputs": [
    {
     "name": "stdout",
     "output_type": "stream",
     "text": [
      "Area of the triangle: 7.5\n"
     ]
    }
   ],
   "source": [
    "##Question no.3\n",
    "\n",
    "base = 5\n",
    "height = 3\n",
    "area = 0.5 * base * height\n",
    "print(\"Area of the triangle:\", area)\n"
   ]
  },
  {
   "cell_type": "code",
   "execution_count": 12,
   "id": "5fe69352",
   "metadata": {},
   "outputs": [
    {
     "name": "stdout",
     "output_type": "stream",
     "text": [
      "Before swapping: a = 5 and b = 3\n",
      "After swapping: a = 3 and b = 5\n"
     ]
    }
   ],
   "source": [
    "##Question no.4\n",
    "\n",
    "a = 5\n",
    "b = 3\n",
    "\n",
    "print(\"Before swapping: a =\", a, \"and b =\", b)\n",
    "\n",
    "swap = a\n",
    "a = b\n",
    "b = swap\n",
    "\n",
    "print(\"After swapping: a =\", a, \"and b =\", b)\n"
   ]
  },
  {
   "cell_type": "code",
   "execution_count": 13,
   "id": "39619107",
   "metadata": {},
   "outputs": [
    {
     "name": "stdout",
     "output_type": "stream",
     "text": [
      "Random number: 1\n"
     ]
    }
   ],
   "source": [
    "##Question no.5\n",
    "\n",
    "import random\n",
    "\n",
    "random_number = random.randint(1, 10)\n",
    "print(\"Random number:\", random_number)\n"
   ]
  },
  {
   "cell_type": "code",
   "execution_count": null,
   "id": "a541f1d7",
   "metadata": {},
   "outputs": [],
   "source": []
  }
 ],
 "metadata": {
  "kernelspec": {
   "display_name": "Python 3 (ipykernel)",
   "language": "python",
   "name": "python3"
  },
  "language_info": {
   "codemirror_mode": {
    "name": "ipython",
    "version": 3
   },
   "file_extension": ".py",
   "mimetype": "text/x-python",
   "name": "python",
   "nbconvert_exporter": "python",
   "pygments_lexer": "ipython3",
   "version": "3.9.13"
  }
 },
 "nbformat": 4,
 "nbformat_minor": 5
}
