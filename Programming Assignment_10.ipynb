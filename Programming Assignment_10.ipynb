{
 "cells": [
  {
   "cell_type": "code",
   "execution_count": 13,
   "id": "7d33feeb",
   "metadata": {},
   "outputs": [
    {
     "name": "stdout",
     "output_type": "stream",
     "text": [
      "Sum of elements in the list: 15\n"
     ]
    }
   ],
   "source": [
    "##Question no.1\n",
    "\n",
    "def sum_of_elements(lst):\n",
    "    return sum(lst)\n",
    "\n",
    "l = [1, 2, 3, 4, 5]\n",
    "result = sum_of_elements(l)\n",
    "print(\"Sum of elements in the list:\", result)\n"
   ]
  },
  {
   "cell_type": "code",
   "execution_count": 26,
   "id": "ab9fc359",
   "metadata": {},
   "outputs": [
    {
     "name": "stdout",
     "output_type": "stream",
     "text": [
      "Multiplication of numbers in the list: 2520\n"
     ]
    }
   ],
   "source": [
    "##Question no.2 \n",
    "\n",
    "def multiply_numbers(lst):\n",
    "    result = 1\n",
    "    for num in lst:\n",
    "        result *= num\n",
    "    return result\n",
    "\n",
    "l = [5,6,7,4,3]\n",
    "result = multiply_numbers(l)\n",
    "print(\"Multiplication of numbers in the list:\", result)\n"
   ]
  },
  {
   "cell_type": "code",
   "execution_count": 27,
   "id": "2ed4718c",
   "metadata": {},
   "outputs": [
    {
     "name": "stdout",
     "output_type": "stream",
     "text": [
      "Smallest number in the list: 4\n"
     ]
    }
   ],
   "source": [
    "##Question no.3\n",
    "\n",
    "def find_smallest(lst):\n",
    "    return min(lst)\n",
    "\n",
    "l = [4,5,6,7]\n",
    "smallest_number = find_smallest(l)\n",
    "print(\"Smallest number in the list:\", smallest_number)\n"
   ]
  },
  {
   "cell_type": "code",
   "execution_count": 28,
   "id": "bebd7518",
   "metadata": {},
   "outputs": [
    {
     "name": "stdout",
     "output_type": "stream",
     "text": [
      "Largest number in the list: 9\n"
     ]
    }
   ],
   "source": [
    "##Question no.4\n",
    "\n",
    "def find_largest(lst):\n",
    "    return max(lst)\n",
    "\n",
    "l = [1,5,7,8,9]\n",
    "largest_number = find_largest(l)\n",
    "print(\"Largest number in the list:\", largest_number)\n"
   ]
  },
  {
   "cell_type": "code",
   "execution_count": 16,
   "id": "bda3a9eb",
   "metadata": {},
   "outputs": [
    {
     "name": "stdout",
     "output_type": "stream",
     "text": [
      "Second largest number in the list: 7\n"
     ]
    }
   ],
   "source": [
    "##Question no.5\n",
    "\n",
    "def find_second_largest(lst):\n",
    "    sorted_list = sorted(lst)\n",
    "    return sorted_list[-2]\n",
    "\n",
    "l = [5, 2, 9, 1, 7]\n",
    "second_largest = find_second_largest(l)\n",
    "print(\"Second largest number in the list:\", second_largest)\n"
   ]
  },
  {
   "cell_type": "code",
   "execution_count": 29,
   "id": "323e8f58",
   "metadata": {},
   "outputs": [
    {
     "name": "stdout",
     "output_type": "stream",
     "text": [
      "3 largest elements in the list: [65, 8, 7]\n"
     ]
    }
   ],
   "source": [
    "##Question no.6\n",
    "\n",
    "def find_n_largest(lst, n):\n",
    "    sorted_list = sorted(lst, reverse=True)\n",
    "    return sorted_list[:n]\n",
    "\n",
    "l = [8,7,65,5,4,3]\n",
    "n = 3\n",
    "n_largest = find_n_largest(l, n)\n",
    "print(f\"{n} largest elements in the list:\", n_largest)\n"
   ]
  },
  {
   "cell_type": "code",
   "execution_count": 20,
   "id": "da21d78a",
   "metadata": {},
   "outputs": [
    {
     "name": "stdout",
     "output_type": "stream",
     "text": [
      "Even numbers in the list:\n",
      "2\n",
      "4\n",
      "6\n",
      "8\n",
      "10\n"
     ]
    }
   ],
   "source": [
    "##Question no. 7\n",
    "\n",
    "def print_even_numbers(lst):\n",
    "    even_numbers = [i for i in lst if i % 2 == 0]\n",
    "    for i in even_numbers:\n",
    "        print(i)\n",
    "\n",
    "l = [1, 2, 3, 4, 5, 6, 7, 8, 9, 10]\n",
    "print(\"Even numbers in the list:\")\n",
    "print_even_numbers(l)\n"
   ]
  },
  {
   "cell_type": "code",
   "execution_count": 22,
   "id": "1eb89aac",
   "metadata": {},
   "outputs": [
    {
     "name": "stdout",
     "output_type": "stream",
     "text": [
      "Odd numbers in the list:\n",
      "1\n",
      "3\n",
      "5\n",
      "7\n",
      "9\n"
     ]
    }
   ],
   "source": [
    "##Question no.8\n",
    "\n",
    "def print_odd_numbers(lst):\n",
    "    odd_numbers = [i for i in lst if i % 2 != 0]\n",
    "    for i in odd_numbers:\n",
    "        print(i)\n",
    "\n",
    "l = [1, 2, 3, 4, 5, 6, 7, 8, 9, 10]\n",
    "print(\"Odd numbers in the list:\")\n",
    "print_odd_numbers(l)\n"
   ]
  },
  {
   "cell_type": "code",
   "execution_count": 23,
   "id": "73b6ee19",
   "metadata": {},
   "outputs": [
    {
     "name": "stdout",
     "output_type": "stream",
     "text": [
      "List after removing empty lists: [1, [2, 3], 4, [5, 6, 7]]\n"
     ]
    }
   ],
   "source": [
    "##Question no.9\n",
    "\n",
    "def remove_empty_lists(lst):\n",
    "    return [sublist for sublist in lst if sublist]\n",
    "\n",
    "l = [1, [], [2, 3], [], 4, [], [5, 6, 7], []]\n",
    "cleaned_list = remove_empty_lists(l)\n",
    "print(\"List after removing empty lists:\", cleaned_list)\n"
   ]
  },
  {
   "cell_type": "code",
   "execution_count": 24,
   "id": "fccb6032",
   "metadata": {},
   "outputs": [
    {
     "name": "stdout",
     "output_type": "stream",
     "text": [
      "Cloned list: [1, 2, 3, 4, 5]\n"
     ]
    }
   ],
   "source": [
    "##Question no.10\n",
    "\n",
    "def clone_list(lst):\n",
    "    return lst.copy()\n",
    "\n",
    "l = [1, 2, 3, 4, 5]\n",
    "cloned_list = clone_list(l)\n",
    "print(\"Cloned list:\", cloned_list)\n"
   ]
  },
  {
   "cell_type": "code",
   "execution_count": 30,
   "id": "e821a8af",
   "metadata": {},
   "outputs": [
    {
     "name": "stdout",
     "output_type": "stream",
     "text": [
      "Occurrences of 1 in the list: 4\n"
     ]
    }
   ],
   "source": [
    "##Question no.11\n",
    "\n",
    "def count_occurrences(lst, element):\n",
    "    return lst.count(element)\n",
    "\n",
    "l = [1, 2, 3, 4, 1, 2, 1, 1]\n",
    "element = 1\n",
    "occurrences = count_occurrences(l, element)\n",
    "print(f\"Occurrences of {element} in the list:\", occurrences)\n",
    "\n",
    "\n"
   ]
  }
 ],
 "metadata": {
  "kernelspec": {
   "display_name": "Python 3 (ipykernel)",
   "language": "python",
   "name": "python3"
  },
  "language_info": {
   "codemirror_mode": {
    "name": "ipython",
    "version": 3
   },
   "file_extension": ".py",
   "mimetype": "text/x-python",
   "name": "python",
   "nbconvert_exporter": "python",
   "pygments_lexer": "ipython3",
   "version": "3.9.13"
  }
 },
 "nbformat": 4,
 "nbformat_minor": 5
}
