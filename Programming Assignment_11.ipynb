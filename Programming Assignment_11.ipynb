{
 "cells": [
  {
   "cell_type": "code",
   "execution_count": 9,
   "id": "6d6e3c44",
   "metadata": {},
   "outputs": [
    {
     "name": "stdout",
     "output_type": "stream",
     "text": [
      "Words greater than length 4 : ['program']\n"
     ]
    }
   ],
   "source": [
    "##Question no.1\n",
    "\n",
    "def find_long_words(sentence, k):\n",
    "    words = sentence.split()\n",
    "    long_words = [word for word in words if len(word) > k]\n",
    "    return long_words\n",
    "\n",
    "sentence = \"this is my program\"\n",
    "k = 4\n",
    "result = find_long_words(sentence, k)\n",
    "print(\"Words greater than length\", k, \":\", result)\n"
   ]
  },
  {
   "cell_type": "code",
   "execution_count": 11,
   "id": "fc63a052",
   "metadata": {},
   "outputs": [
    {
     "name": "stdout",
     "output_type": "stream",
     "text": [
      "String after removing character at index 2 : inuron\n"
     ]
    }
   ],
   "source": [
    "##Question no.2\n",
    "\n",
    "def remove_character(string, i):\n",
    "    new_string = string[:i] + string[i+1:]\n",
    "    return new_string\n",
    "\n",
    "string = \"ineuron\"\n",
    "i = 2\n",
    "result = remove_character(string, i)\n",
    "print(\"String after removing character at index\", i, \":\", result)\n"
   ]
  },
  {
   "cell_type": "code",
   "execution_count": 13,
   "id": "549aa366",
   "metadata": {},
   "outputs": [
    {
     "name": "stdout",
     "output_type": "stream",
     "text": [
      "Joined string: This-is-my-program\n"
     ]
    }
   ],
   "source": [
    "##Question no.3\n",
    "\n",
    "def split_and_join(string):\n",
    "    words = string.split()\n",
    "    joined_string = \"-\".join(words)\n",
    "    return joined_string\n",
    "\n",
    "string = \"This is my program\"\n",
    "result = split_and_join(string)\n",
    "print(\"Joined string:\", result)\n"
   ]
  },
  {
   "cell_type": "code",
   "execution_count": 15,
   "id": "7d90f15d",
   "metadata": {},
   "outputs": [
    {
     "name": "stdout",
     "output_type": "stream",
     "text": [
      "The string is not a binary string.\n"
     ]
    }
   ],
   "source": [
    "##Question no. 4\n",
    "\n",
    "def is_binary_string(string):\n",
    "    for char in string:\n",
    "        if char != '0' and char != '1':\n",
    "            return False\n",
    "    return True\n",
    "\n",
    "string = \"1212123\"\n",
    "if is_binary_string(string):\n",
    "    print(\"The string is a binary string.\")\n",
    "else:\n",
    "    print(\"The string is not a binary string.\")\n"
   ]
  },
  {
   "cell_type": "code",
   "execution_count": 16,
   "id": "9029d1b4",
   "metadata": {},
   "outputs": [
    {
     "name": "stdout",
     "output_type": "stream",
     "text": [
      "Uncommon words: {'program', 'my', 'second', 'line'}\n"
     ]
    }
   ],
   "source": [
    "##Question no. 5\n",
    "\n",
    "def find_uncommon_words(string1, string2):\n",
    "    words1 = set(string1.split())\n",
    "    words2 = set(string2.split())\n",
    "    uncommon_words = words1.symmetric_difference(words2)\n",
    "    return uncommon_words\n",
    "\n",
    "string1 = \"This is my program\"\n",
    "string2 = \"This is second line\"\n",
    "result = find_uncommon_words(string1, string2)\n",
    "print(\"Uncommon words:\", result)\n"
   ]
  },
  {
   "cell_type": "code",
   "execution_count": 17,
   "id": "a72faa93",
   "metadata": {},
   "outputs": [
    {
     "name": "stdout",
     "output_type": "stream",
     "text": [
      "Duplicate characters: ['e', 'l', 'o', 'n']\n"
     ]
    }
   ],
   "source": [
    "##Question no. 6 \n",
    "\n",
    "def find_duplicate_characters(string):\n",
    "    duplicates = []\n",
    "    for char in string:\n",
    "        if string.count(char) > 1 and char not in duplicates:\n",
    "            duplicates.append(char)\n",
    "    return duplicates\n",
    "\n",
    "string = \"Hello, ineuron!\"\n",
    "result = find_duplicate_characters(string)\n",
    "print(\"Duplicate characters:\", result)\n"
   ]
  },
  {
   "cell_type": "code",
   "execution_count": 20,
   "id": "aab0054f",
   "metadata": {},
   "outputs": [
    {
     "name": "stdout",
     "output_type": "stream",
     "text": [
      "The string contains special characters.\n"
     ]
    }
   ],
   "source": [
    "##Question no.7\n",
    "\n",
    "import re\n",
    "\n",
    "def has_special_characters(string):\n",
    "    pattern = r'[^a-zA-Z0-9\\s]'\n",
    "    if re.search(pattern, string):\n",
    "        return True\n",
    "    return False\n",
    "\n",
    "string = \"Hello! Welcome to ineuron \"\n",
    "if has_special_characters(string):\n",
    "    print(\"The string contains special characters.\")\n",
    "else:\n",
    "    print(\"The string does not contain special characters.\")\n"
   ]
  },
  {
   "cell_type": "code",
   "execution_count": null,
   "id": "258fda95",
   "metadata": {},
   "outputs": [],
   "source": []
  }
 ],
 "metadata": {
  "kernelspec": {
   "display_name": "Python 3 (ipykernel)",
   "language": "python",
   "name": "python3"
  },
  "language_info": {
   "codemirror_mode": {
    "name": "ipython",
    "version": 3
   },
   "file_extension": ".py",
   "mimetype": "text/x-python",
   "name": "python",
   "nbconvert_exporter": "python",
   "pygments_lexer": "ipython3",
   "version": "3.9.13"
  }
 },
 "nbformat": 4,
 "nbformat_minor": 5
}
