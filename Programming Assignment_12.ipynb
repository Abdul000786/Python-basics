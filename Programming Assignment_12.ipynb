{
 "cells": [
  {
   "cell_type": "code",
   "execution_count": 8,
   "id": "02034958",
   "metadata": {},
   "outputs": [
    {
     "name": "stdout",
     "output_type": "stream",
     "text": [
      "Unique values: {1, 2, 3, 4, 5}\n"
     ]
    }
   ],
   "source": [
    "##Question no.1\n",
    "\n",
    "def extract_unique_values(d):\n",
    "    unique_values = set()\n",
    "    for values in d.values():\n",
    "        unique_values.update(values)\n",
    "    return unique_values\n",
    "\n",
    "dict = {'a': [1, 2, 3], 'b': [2, 3, 4], 'c': [3, 4, 5]}\n",
    "unique_values = extract_unique_values(dict)\n",
    "print(\"Unique values:\", unique_values)\n"
   ]
  },
  {
   "cell_type": "code",
   "execution_count": 10,
   "id": "2d84c961",
   "metadata": {},
   "outputs": [
    {
     "name": "stdout",
     "output_type": "stream",
     "text": [
      "Sum of dictionary items: 60\n"
     ]
    }
   ],
   "source": [
    "##Question no.2\n",
    "\n",
    "def sum_dictionary_items(d):\n",
    "    return sum(d.values())\n",
    "\n",
    "dict = {'a': 10, 'b': 20, 'c': 30}\n",
    "result = sum_dictionary_items(dict)\n",
    "print(\"Sum of dictionary items:\", result)\n"
   ]
  },
  {
   "cell_type": "code",
   "execution_count": 11,
   "id": "a1d33729",
   "metadata": {},
   "outputs": [
    {
     "name": "stdout",
     "output_type": "stream",
     "text": [
      "Merged dictionary: {'a': 1, 'b': 2, 'c': 3, 'd': 4}\n"
     ]
    }
   ],
   "source": [
    "##Question no.3\n",
    "\n",
    "def merge_dictionaries(dict1, dict2):\n",
    "    merged_dict = {**dict1, **dict2}\n",
    "    return merged_dict\n",
    "\n",
    "dict1 = {'a': 1, 'b': 2}\n",
    "dict2 = {'c': 3, 'd': 4}\n",
    "result_dict = merge_dictionaries(dict1, dict2)\n",
    "print(\"Merged dictionary:\", result_dict)\n"
   ]
  },
  {
   "cell_type": "code",
   "execution_count": 16,
   "id": "4fd6d0e2",
   "metadata": {},
   "outputs": [
    {
     "name": "stdout",
     "output_type": "stream",
     "text": [
      "Flat dictionary: {'a': 1, 'b': 2, 'c': 3}\n"
     ]
    }
   ],
   "source": [
    "##Question no.4\n",
    "\n",
    "def convert_to_flat_dictionary(keys, values):\n",
    "    flat_dict = {keys[i]: values[i] for i in range(len(keys))}\n",
    "    return flat_dict\n",
    "\n",
    "keys = ['a', 'b', 'c']\n",
    "values = [1, 2, 3]\n",
    "result_dict = convert_to_flat_dictionary(keys, values)\n",
    "print(\"Flat dictionary:\", result_dict)\n",
    "\n",
    "\n"
   ]
  },
  {
   "cell_type": "code",
   "execution_count": 17,
   "id": "83368d4e",
   "metadata": {},
   "outputs": [
    {
     "name": "stdout",
     "output_type": "stream",
     "text": [
      "OrderedDict after insertion: OrderedDict([('c', 3), ('a', 1), ('b', 2)])\n"
     ]
    }
   ],
   "source": [
    "##Question no.5\n",
    "\n",
    "from collections import OrderedDict\n",
    "\n",
    "def insert_at_beginning(ordered_dict, key, value):\n",
    "    ordered_dict[key] = value\n",
    "    ordered_dict.move_to_end(key, last=False)\n",
    "\n",
    "my_ordered_dict = OrderedDict([('a', 1), ('b', 2)])\n",
    "insert_at_beginning(my_ordered_dict, 'c', 3)\n",
    "print(\"OrderedDict after insertion:\", my_ordered_dict)\n"
   ]
  },
  {
   "cell_type": "code",
   "execution_count": 20,
   "id": "588879a8",
   "metadata": {},
   "outputs": [
    {
     "name": "stdout",
     "output_type": "stream",
     "text": [
      "Ordered characters: asignmet\n"
     ]
    }
   ],
   "source": [
    "##Question no.6\n",
    "\n",
    "from collections import OrderedDict\n",
    "\n",
    "def check_character_order(string):\n",
    "    ordered_dict = OrderedDict()\n",
    "    for char in string:\n",
    "        if char not in ordered_dict:\n",
    "            ordered_dict[char] = None\n",
    "    return ''.join(ordered_dict.keys())\n",
    "\n",
    "string = \"assignment\"\n",
    "ordered_characters = check_character_order(string)\n",
    "print(\"Ordered characters:\", ordered_characters)\n"
   ]
  },
  {
   "cell_type": "code",
   "execution_count": 1,
   "id": "7c0ec63f",
   "metadata": {},
   "outputs": [
    {
     "name": "stdout",
     "output_type": "stream",
     "text": [
      "Sorted by key: {'a': 1, 'b': 2, 'c': 3, 'd': 4}\n",
      "Sorted by value: {'a': 1, 'b': 2, 'c': 3, 'd': 4}\n"
     ]
    }
   ],
   "source": [
    "##Question no.7\n",
    "\n",
    "def sort_dictionary(dictionary, by_key=True):\n",
    "    if by_key:\n",
    "        sorted_dict = dict(sorted(dictionary.items()))\n",
    "    else:\n",
    "        sorted_dict = dict(sorted(dictionary.items(), key=lambda x: x[1]))\n",
    "    return sorted_dict\n",
    "\n",
    "my_dict = {'b': 2, 'a': 1, 'd': 4, 'c': 3}\n",
    "\n",
    "# Sort by key\n",
    "sorted_by_key = sort_dictionary(my_dict, by_key=True)\n",
    "print(\"Sorted by key:\", sorted_by_key)\n",
    "\n",
    "# Sort by value\n",
    "sorted_by_value = sort_dictionary(my_dict, by_key=False)\n",
    "print(\"Sorted by value:\", sorted_by_value)\n",
    "\n",
    "\n",
    "\n"
   ]
  },
  {
   "cell_type": "code",
   "execution_count": null,
   "id": "27050b1f",
   "metadata": {},
   "outputs": [],
   "source": []
  }
 ],
 "metadata": {
  "kernelspec": {
   "display_name": "Python 3 (ipykernel)",
   "language": "python",
   "name": "python3"
  },
  "language_info": {
   "codemirror_mode": {
    "name": "ipython",
    "version": 3
   },
   "file_extension": ".py",
   "mimetype": "text/x-python",
   "name": "python",
   "nbconvert_exporter": "python",
   "pygments_lexer": "ipython3",
   "version": "3.9.13"
  }
 },
 "nbformat": 4,
 "nbformat_minor": 5
}
