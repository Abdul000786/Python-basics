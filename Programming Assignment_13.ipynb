{
 "cells": [
  {
   "cell_type": "code",
   "execution_count": 10,
   "id": "6a83eb6b",
   "metadata": {},
   "outputs": [
    {
     "name": "stdout",
     "output_type": "stream",
     "text": [
      "Enter comma-separated sequence of numbers: 9,9,9,9,9\n",
      "Output: 5,5,5,5,5\n"
     ]
    }
   ],
   "source": [
    "##Question no.1\n",
    "\n",
    "import math\n",
    "\n",
    "def calculate_value(sequence):\n",
    "    C = 50\n",
    "    H = 30\n",
    "    result = []\n",
    "    for num in sequence:\n",
    "        D = int(num)\n",
    "        Q = math.sqrt((2 * C * D) / H)\n",
    "        result.append(round(Q))\n",
    "    return result\n",
    "\n",
    "sequence = input(\"Enter comma-separated sequence of numbers: \").split(',')\n",
    "result = calculate_value(sequence)\n",
    "print(\"Output:\", \",\".join(map(str, result)))\n"
   ]
  },
  {
   "cell_type": "code",
   "execution_count": 15,
   "id": "0714bf11",
   "metadata": {},
   "outputs": [
    {
     "name": "stdout",
     "output_type": "stream",
     "text": [
      "Enter two digits X and Y: 4,5\n",
      "Output: [[0, 0, 0, 0, 0], [0, 1, 2, 3, 4], [0, 2, 4, 6, 8], [0, 3, 6, 9, 12]]\n"
     ]
    }
   ],
   "source": [
    "##Question no.2\n",
    "\n",
    "def generate_array(X, Y):\n",
    "    array = [[i * j for j in range(Y)] for i in range(X)]\n",
    "    return array\n",
    "\n",
    "X, Y = map(int, input(\"Enter two digits X and Y: \").split(','))\n",
    "result = generate_array(X, Y)\n",
    "print(\"Output:\", result)\n"
   ]
  },
  {
   "cell_type": "code",
   "execution_count": 16,
   "id": "f1ceae1b",
   "metadata": {},
   "outputs": [
    {
     "name": "stdout",
     "output_type": "stream",
     "text": [
      "Enter comma-separated sequence of words: this, is , my , program, \n",
      "Output:  , is , my , program,this\n"
     ]
    }
   ],
   "source": [
    "##Question no.3\n",
    "\n",
    "def sort_words(sequence):\n",
    "    words = sequence.split(',')\n",
    "    sorted_words = sorted(words)\n",
    "    return sorted_words\n",
    "\n",
    "sequence = input(\"Enter comma-separated sequence of words: \")\n",
    "result = sort_words(sequence)\n",
    "print(\"Output:\", \",\".join(result))\n"
   ]
  },
  {
   "cell_type": "code",
   "execution_count": 18,
   "id": "810098d4",
   "metadata": {},
   "outputs": [
    {
     "name": "stdout",
     "output_type": "stream",
     "text": [
      "Enter sequence of whitespace-separated words: this this is my my program program\n",
      "Output: is my program this\n"
     ]
    }
   ],
   "source": [
    "##Question no.4\n",
    "\n",
    "def remove_duplicates_and_sort(sequence):\n",
    "    words = sequence.split()\n",
    "    unique_words = sorted(set(words))\n",
    "    return unique_words\n",
    "\n",
    "sequence = input(\"Enter sequence of whitespace-separated words: \")\n",
    "result = remove_duplicates_and_sort(sequence)\n",
    "print(\"Output:\", \" \".join(result))\n"
   ]
  },
  {
   "cell_type": "code",
   "execution_count": 22,
   "id": "2dcf196d",
   "metadata": {},
   "outputs": [
    {
     "name": "stdout",
     "output_type": "stream",
     "text": [
      "Enter a sentence: hello student of fsds 2.0\n",
      "LETTERS 18\n",
      "DIGITS 2\n"
     ]
    }
   ],
   "source": [
    "##Question no.5\n",
    "\n",
    "def count_letters_digits(sentence):\n",
    "    letters = sum(c.isalpha() for c in sentence)\n",
    "    digits = sum(c.isdigit() for c in sentence)\n",
    "    return letters, digits\n",
    "\n",
    "sentence = input(\"Enter a sentence: \")\n",
    "letters, digits = count_letters_digits(sentence)\n",
    "print(\"LETTERS\", letters)\n",
    "print(\"DIGITS\", digits)\n"
   ]
  },
  {
   "cell_type": "code",
   "execution_count": 28,
   "id": "32f129c0",
   "metadata": {},
   "outputs": [
    {
     "name": "stdout",
     "output_type": "stream",
     "text": [
      "Enter comma-separated passwords: ineuron,fsds, @123\n",
      "Output: \n"
     ]
    }
   ],
   "source": [
    "##Question no. 6\n",
    "\n",
    "import re\n",
    "\n",
    "def check_passwords(passwords):\n",
    "    valid_passwords = []\n",
    "    for password in passwords:\n",
    "        if len(password) < 6 or len(password) > 12:\n",
    "            continue\n",
    "        if not re.search(r'[a-z]', password):\n",
    "            continue\n",
    "        if not re.search(r'[A-Z]', password):\n",
    "            continue\n",
    "        if not re.search(r'[0-9]', password):\n",
    "            continue\n",
    "        if not re.search(r'[$#@]', password):\n",
    "            continue\n",
    "        valid_passwords.append(password)\n",
    "    return valid_passwords\n",
    "\n",
    "passwords = input(\"Enter comma-separated passwords: \").split(',')\n",
    "result = check_passwords(passwords)\n",
    "print(\"Output:\", \",\".join(result))\n"
   ]
  }
 ],
 "metadata": {
  "kernelspec": {
   "display_name": "Python 3 (ipykernel)",
   "language": "python",
   "name": "python3"
  },
  "language_info": {
   "codemirror_mode": {
    "name": "ipython",
    "version": 3
   },
   "file_extension": ".py",
   "mimetype": "text/x-python",
   "name": "python",
   "nbconvert_exporter": "python",
   "pygments_lexer": "ipython3",
   "version": "3.9.13"
  }
 },
 "nbformat": 4,
 "nbformat_minor": 5
}
