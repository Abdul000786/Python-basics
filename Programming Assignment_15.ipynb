{
 "cells": [
  {
   "cell_type": "code",
   "execution_count": 6,
   "id": "efaae638",
   "metadata": {},
   "outputs": [
    {
     "name": "stdout",
     "output_type": "stream",
     "text": [
      "Enter a number: 42\n",
      "0,35\n"
     ]
    }
   ],
   "source": [
    "##Question no.1\n",
    "\n",
    "def divisible_by_5_and_7(n):\n",
    "    for num in range(n + 1):\n",
    "        if num % 5 == 0 and num % 7 == 0:\n",
    "            yield str(num)\n",
    "\n",
    "\n",
    "n = int(input(\"Enter a number: \"))\n",
    "result = ','.join(divisible_by_5_and_7(n))\n",
    "print(result)\n"
   ]
  },
  {
   "cell_type": "code",
   "execution_count": 7,
   "id": "71881265",
   "metadata": {},
   "outputs": [
    {
     "name": "stdout",
     "output_type": "stream",
     "text": [
      "Enter a number: 6\n",
      "0,2,4,6\n"
     ]
    }
   ],
   "source": [
    "##Question no.2\n",
    "\n",
    "def even_numbers(n):\n",
    "    for num in range(n + 1):\n",
    "        if num % 2 == 0:\n",
    "            yield str(num)\n",
    "\n",
    "# Example usage\n",
    "n = int(input(\"Enter a number: \"))\n",
    "result = ','.join(even_numbers(n))\n",
    "print(result)\n"
   ]
  },
  {
   "cell_type": "code",
   "execution_count": 1,
   "id": "649958de",
   "metadata": {},
   "outputs": [
    {
     "name": "stdout",
     "output_type": "stream",
     "text": [
      "Enter a number: 9\n",
      "0,1,1,2,3,5,8,13,21,34\n"
     ]
    }
   ],
   "source": [
    "##Question no.3\n",
    "\n",
    "def fibonacci_sequence(n):\n",
    "    sequence = [0, 1]\n",
    "    [sequence.append(sequence[-1] + sequence[-2]) for _ in range(2, n + 1)]\n",
    "    return sequence\n",
    "\n",
    "\n",
    "n = int(input(\"Enter a number: \"))\n",
    "sequence = fibonacci_sequence(n)\n",
    "result = ','.join(map(str, sequence))\n",
    "print(result)\n"
   ]
  },
  {
   "cell_type": "code",
   "execution_count": 2,
   "id": "3226ad88",
   "metadata": {},
   "outputs": [
    {
     "name": "stdout",
     "output_type": "stream",
     "text": [
      "Enter an email address: abdul45@gmail.com\n",
      "abdul45\n"
     ]
    }
   ],
   "source": [
    "##Question no.4\n",
    "\n",
    "def extract_username(email):\n",
    "    username = email.split('@')[0]\n",
    "    return username\n",
    "\n",
    "# Example usage\n",
    "email_address = input(\"Enter an email address: \")\n",
    "username = extract_username(email_address)\n",
    "print(username)\n"
   ]
  },
  {
   "cell_type": "code",
   "execution_count": 4,
   "id": "d309200d",
   "metadata": {},
   "outputs": [
    {
     "name": "stdout",
     "output_type": "stream",
     "text": [
      "Area: 25\n"
     ]
    }
   ],
   "source": [
    "##Question no.5\n",
    "\n",
    "class Shape:\n",
    "    def __init__(self):\n",
    "        self.area = 0\n",
    "\n",
    "class Square(Shape):\n",
    "    def __init__(self, length):\n",
    "        super().__init__()\n",
    "        self.length = length\n",
    "\n",
    "    def calculate_area(self):\n",
    "        self.area = self.length ** 2\n",
    "        print(\"Area:\", self.area)\n",
    "\n",
    "\n",
    "square = Square(5)\n",
    "square.calculate_area()\n"
   ]
  },
  {
   "cell_type": "code",
   "execution_count": null,
   "id": "052dd611",
   "metadata": {},
   "outputs": [],
   "source": []
  }
 ],
 "metadata": {
  "kernelspec": {
   "display_name": "Python 3 (ipykernel)",
   "language": "python",
   "name": "python3"
  },
  "language_info": {
   "codemirror_mode": {
    "name": "ipython",
    "version": 3
   },
   "file_extension": ".py",
   "mimetype": "text/x-python",
   "name": "python",
   "nbconvert_exporter": "python",
   "pygments_lexer": "ipython3",
   "version": "3.9.13"
  }
 },
 "nbformat": 4,
 "nbformat_minor": 5
}
