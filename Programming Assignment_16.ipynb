{
 "cells": [
  {
   "cell_type": "code",
   "execution_count": 6,
   "id": "dcd8b88d",
   "metadata": {},
   "outputs": [
    {
     "name": "stdout",
     "output_type": "stream",
     "text": [
      "In... in... incredible?\n",
      "En... en... enthusiastic?\n",
      "Ou... ou... outstanding?\n"
     ]
    }
   ],
   "source": [
    "##Question no.1\n",
    "\n",
    "def stutter(word):\n",
    "    return f\"{word[:2]}... {word[:2]}... {word}?\".capitalize()\n",
    "\n",
    "\n",
    "print(stutter(\"incredible\"))\n",
    "print(stutter(\"enthusiastic\"))\n",
    "print(stutter(\"outstanding\"))\n"
   ]
  },
  {
   "cell_type": "code",
   "execution_count": 7,
   "id": "9151a8b8",
   "metadata": {},
   "outputs": [
    {
     "name": "stdout",
     "output_type": "stream",
     "text": [
      "57.3\n",
      "1145.9\n",
      "2864.8\n"
     ]
    }
   ],
   "source": [
    "##Question no.2\n",
    "\n",
    "import math\n",
    "\n",
    "def radians_to_degrees(radians):\n",
    "    degrees = math.degrees(radians)\n",
    "    return round(degrees, 1)\n",
    "\n",
    "\n",
    "print(radians_to_degrees(1))\n",
    "print(radians_to_degrees(20))\n",
    "print(radians_to_degrees(50))\n"
   ]
  },
  {
   "cell_type": "code",
   "execution_count": 8,
   "id": "f8a8255f",
   "metadata": {},
   "outputs": [
    {
     "name": "stdout",
     "output_type": "stream",
     "text": [
      "True\n",
      "False\n",
      "True\n"
     ]
    }
   ],
   "source": [
    "##Question no.3\n",
    "\n",
    "def is_curzon(num):\n",
    "    numerator = 2 ** num + 1\n",
    "    denominator = 2 * num + 1\n",
    "    return numerator % denominator == 0\n",
    "\n",
    "\n",
    "print(is_curzon(5))\n",
    "print(is_curzon(10))\n",
    "print(is_curzon(14))\n"
   ]
  },
  {
   "cell_type": "code",
   "execution_count": 10,
   "id": "151a2c3f",
   "metadata": {},
   "outputs": [
    {
     "name": "stdout",
     "output_type": "stream",
     "text": [
      "2.6\n",
      "10.4\n",
      "23.4\n"
     ]
    }
   ],
   "source": [
    "##Question no.4\n",
    "\n",
    "import math\n",
    "\n",
    "def area_of_hexagon(x):\n",
    "    area = (3 * math.sqrt(3) * (x ** 2)) / 2\n",
    "    return round(area, 1)\n",
    "\n",
    "\n",
    "print(area_of_hexagon(1))\n",
    "print(area_of_hexagon(2))\n",
    "print(area_of_hexagon(3))\n"
   ]
  },
  {
   "cell_type": "code",
   "execution_count": 11,
   "id": "bdc1d26d",
   "metadata": {},
   "outputs": [
    {
     "name": "stdout",
     "output_type": "stream",
     "text": [
      "1\n",
      "101\n",
      "1010\n"
     ]
    }
   ],
   "source": [
    "##Question no.5\n",
    "\n",
    "def binary(decimal):\n",
    "    binary_num = bin(decimal)[2:]\n",
    "    return binary_num\n",
    "\n",
    "print(binary(1))\n",
    "print(binary(5))\n",
    "print(binary(10))\n"
   ]
  },
  {
   "cell_type": "code",
   "execution_count": null,
   "id": "affa5a68",
   "metadata": {},
   "outputs": [],
   "source": []
  }
 ],
 "metadata": {
  "kernelspec": {
   "display_name": "Python 3 (ipykernel)",
   "language": "python",
   "name": "python3"
  },
  "language_info": {
   "codemirror_mode": {
    "name": "ipython",
    "version": 3
   },
   "file_extension": ".py",
   "mimetype": "text/x-python",
   "name": "python",
   "nbconvert_exporter": "python",
   "pygments_lexer": "ipython3",
   "version": "3.9.13"
  }
 },
 "nbformat": 4,
 "nbformat_minor": 5
}
