{
 "cells": [
  {
   "cell_type": "code",
   "execution_count": 6,
   "id": "2e086f37",
   "metadata": {},
   "outputs": [
    {
     "name": "stdout",
     "output_type": "stream",
     "text": [
      "SSttrriinngg\n",
      "HHeelllloo  WWoorrlldd!!\n",
      "11223344!!__  \n"
     ]
    }
   ],
   "source": [
    "##Question no.1\n",
    "\n",
    "def double_char(string):\n",
    "    return ''.join([char * 2 for char in string])\n",
    "\n",
    "\n",
    "print(double_char(\"String\"))\n",
    "print(double_char(\"Hello World!\"))\n",
    "print(double_char(\"1234!_ \"))\n"
   ]
  },
  {
   "cell_type": "code",
   "execution_count": 7,
   "id": "acbbdc36",
   "metadata": {},
   "outputs": [
    {
     "name": "stdout",
     "output_type": "stream",
     "text": [
      "False\n",
      "True\n",
      "boolean expected\n",
      "boolean expected\n"
     ]
    }
   ],
   "source": [
    "##Question no.2\n",
    "\n",
    "def reverse(boolean):\n",
    "    if isinstance(boolean, bool):\n",
    "        return not boolean\n",
    "    else:\n",
    "        return \"boolean expected\"\n",
    "\n",
    "\n",
    "print(reverse(True))\n",
    "print(reverse(False))\n",
    "print(reverse(0))\n",
    "print(reverse(None))\n"
   ]
  },
  {
   "cell_type": "code",
   "execution_count": 9,
   "id": "7d5ac250",
   "metadata": {},
   "outputs": [
    {
     "name": "stdout",
     "output_type": "stream",
     "text": [
      "0.001m\n",
      "0.008m\n",
      "1048.576m\n"
     ]
    }
   ],
   "source": [
    "##Question no.3\n",
    "\n",
    "def num_layers(n):\n",
    "    thickness_mm = 0.5 * (2 ** n)\n",
    "    thickness_m = thickness_mm / 1000\n",
    "    return f\"{thickness_m}m\"\n",
    "\n",
    "\n",
    "print(num_layers(1))\n",
    "print(num_layers(4))\n",
    "print(num_layers(21))\n"
   ]
  },
  {
   "cell_type": "code",
   "execution_count": 10,
   "id": "4d81bfde",
   "metadata": {},
   "outputs": [
    {
     "name": "stdout",
     "output_type": "stream",
     "text": [
      "[1, 3, 5]\n",
      "[1, 3, 4, 6]\n",
      "[]\n",
      "[0, 1, 2, 3, 4, 5]\n",
      "[1]\n"
     ]
    }
   ],
   "source": [
    "##Question no.4\n",
    "\n",
    "def index_of_caps(string):\n",
    "    return [index for index, char in enumerate(string) if char.isupper()]\n",
    "\n",
    "\n",
    "print(index_of_caps(\"eDaBiT\"))\n",
    "print(index_of_caps(\"eQuINoX\"))\n",
    "print(index_of_caps(\"determine\"))\n",
    "print(index_of_caps(\"STRIKE\"))\n",
    "print(index_of_caps(\"sUn\"))\n"
   ]
  },
  {
   "cell_type": "code",
   "execution_count": 11,
   "id": "e4483343",
   "metadata": {},
   "outputs": [
    {
     "name": "stdout",
     "output_type": "stream",
     "text": [
      "[2, 4, 6, 8]\n",
      "[2, 4]\n",
      "[2]\n"
     ]
    }
   ],
   "source": [
    "##Question no.5\n",
    "\n",
    "def find_even_nums(n):\n",
    "    return [num for num in range(1, n + 1) if num % 2 == 0]\n",
    "\n",
    "\n",
    "print(find_even_nums(8))\n",
    "print(find_even_nums(4))\n",
    "print(find_even_nums(2))\n"
   ]
  },
  {
   "cell_type": "code",
   "execution_count": null,
   "id": "5b7b1b2f",
   "metadata": {},
   "outputs": [],
   "source": []
  }
 ],
 "metadata": {
  "kernelspec": {
   "display_name": "Python 3 (ipykernel)",
   "language": "python",
   "name": "python3"
  },
  "language_info": {
   "codemirror_mode": {
    "name": "ipython",
    "version": 3
   },
   "file_extension": ".py",
   "mimetype": "text/x-python",
   "name": "python",
   "nbconvert_exporter": "python",
   "pygments_lexer": "ipython3",
   "version": "3.9.13"
  }
 },
 "nbformat": 4,
 "nbformat_minor": 5
}
