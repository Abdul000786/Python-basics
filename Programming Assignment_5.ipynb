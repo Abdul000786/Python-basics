{
 "cells": [
  {
   "cell_type": "code",
   "execution_count": 10,
   "id": "3d44b8e0",
   "metadata": {},
   "outputs": [
    {
     "name": "stdout",
     "output_type": "stream",
     "text": [
      "LCM of 5 and 18 is 90\n"
     ]
    }
   ],
   "source": [
    "##Question no.1\n",
    "\n",
    "def find_lcm(n1, n2):\n",
    "    if n1 > n2:\n",
    "        greater = n1\n",
    "    else:\n",
    "        greater = n2\n",
    "\n",
    "    while True:\n",
    "        if greater % n1 == 0 and greater % n2 == 0:\n",
    "            lcm = greater\n",
    "            break\n",
    "        greater += 1\n",
    "\n",
    "    return lcm\n",
    "\n",
    "n1 = 5\n",
    "n2 = 18\n",
    "lcm_result = find_lcm(n1, n2)\n",
    "print(\"LCM of\", n1, \"and\", n2, \"is\", lcm_result)\n"
   ]
  },
  {
   "cell_type": "code",
   "execution_count": 13,
   "id": "5b351fad",
   "metadata": {},
   "outputs": [
    {
     "name": "stdout",
     "output_type": "stream",
     "text": [
      "HCF of 90 and 20 is 10\n"
     ]
    }
   ],
   "source": [
    "##Question no.2\n",
    "\n",
    "def find_hcf(n1, n2):\n",
    "    while n2:\n",
    "        n1, n2 = n2, n1 % n2\n",
    "    return n1\n",
    "\n",
    "n1 = 90\n",
    "n2 = 20\n",
    "hcf_result = find_hcf(n1, n2)\n",
    "print(\"HCF of\", n1, \"and\", n2, \"is\", hcf_result)\n"
   ]
  },
  {
   "cell_type": "code",
   "execution_count": 14,
   "id": "f4cbe0ce",
   "metadata": {},
   "outputs": [
    {
     "name": "stdout",
     "output_type": "stream",
     "text": [
      "Decimal: 88\n",
      "Binary: 0b1011000\n",
      "Octal: 0o130\n",
      "Hexadecimal: 0x58\n"
     ]
    }
   ],
   "source": [
    "##Question no.3\n",
    "\n",
    "decimal_number = 88\n",
    "\n",
    "binary_number = bin(decimal_number)\n",
    "octal_number = oct(decimal_number)\n",
    "hexadecimal_number = hex(decimal_number)\n",
    "\n",
    "print(\"Decimal:\", decimal_number)\n",
    "print(\"Binary:\", binary_number)\n",
    "print(\"Octal:\", octal_number)\n",
    "print(\"Hexadecimal:\", hexadecimal_number)\n"
   ]
  },
  {
   "cell_type": "code",
   "execution_count": 15,
   "id": "2c7828b8",
   "metadata": {},
   "outputs": [
    {
     "name": "stdout",
     "output_type": "stream",
     "text": [
      "ASCII value of A is 65\n"
     ]
    }
   ],
   "source": [
    "##Question no.4\n",
    "\n",
    "character = 'A'\n",
    "ascii_value = ord(character)\n",
    "print(\"ASCII value of\", character, \"is\", ascii_value)\n"
   ]
  },
  {
   "cell_type": "code",
   "execution_count": 17,
   "id": "7985aa2c",
   "metadata": {},
   "outputs": [
    {
     "name": "stdout",
     "output_type": "stream",
     "text": [
      "Addition: 15\n",
      "Subtraction: 5\n",
      "Multiplication: 50\n",
      "Division: 2.0\n"
     ]
    }
   ],
   "source": [
    "##Question no.5\n",
    "\n",
    "def add(n1, n2):\n",
    "    return n1 + n2\n",
    "\n",
    "def subtract(n1, n2):\n",
    "    return n1 - n2\n",
    "\n",
    "def multiply(n1, n2):\n",
    "    return n1 * n2\n",
    "\n",
    "def divide(n1, n2):\n",
    "    return n1 / n2\n",
    "\n",
    "n1 = 10\n",
    "n2 = 5\n",
    "\n",
    "print(\"Addition:\", add(n1, n2))\n",
    "print(\"Subtraction:\", subtract(n1, n2))\n",
    "print(\"Multiplication:\", multiply(n1, n2))\n",
    "print(\"Division:\", divide(n1, n2))\n"
   ]
  },
  {
   "cell_type": "code",
   "execution_count": null,
   "id": "801481ae",
   "metadata": {},
   "outputs": [],
   "source": []
  }
 ],
 "metadata": {
  "kernelspec": {
   "display_name": "Python 3 (ipykernel)",
   "language": "python",
   "name": "python3"
  },
  "language_info": {
   "codemirror_mode": {
    "name": "ipython",
    "version": 3
   },
   "file_extension": ".py",
   "mimetype": "text/x-python",
   "name": "python",
   "nbconvert_exporter": "python",
   "pygments_lexer": "ipython3",
   "version": "3.9.13"
  }
 },
 "nbformat": 4,
 "nbformat_minor": 5
}
