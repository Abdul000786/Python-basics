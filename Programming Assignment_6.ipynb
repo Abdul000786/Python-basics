{
 "cells": [
  {
   "cell_type": "code",
   "execution_count": 7,
   "id": "aaf6fedf",
   "metadata": {},
   "outputs": [
    {
     "name": "stdout",
     "output_type": "stream",
     "text": [
      "Fibonacci sequence:\n",
      "0\n",
      "1\n",
      "1\n",
      "2\n",
      "3\n",
      "5\n",
      "8\n",
      "13\n",
      "21\n",
      "34\n"
     ]
    }
   ],
   "source": [
    "##Question no.1\n",
    "\n",
    "def fibonacci(n):\n",
    "    if n <= 1:\n",
    "        return n\n",
    "    else:\n",
    "        return fibonacci(n-1) + fibonacci(n-2)\n",
    "\n",
    "n = 10\n",
    "\n",
    "print(\"Fibonacci sequence:\")\n",
    "for i in range(n):\n",
    "    print(fibonacci(i))\n"
   ]
  },
  {
   "cell_type": "code",
   "execution_count": 9,
   "id": "7b9b7f4c",
   "metadata": {},
   "outputs": [
    {
     "name": "stdout",
     "output_type": "stream",
     "text": [
      "Factorial of 4 is 24\n"
     ]
    }
   ],
   "source": [
    "##Question no.2\n",
    "\n",
    "def factorial(n):\n",
    "    if n == 0:\n",
    "        return 1\n",
    "    else:\n",
    "        return n * factorial(n - 1)\n",
    "\n",
    "number = 4\n",
    "result = factorial(number)\n",
    "print(\"Factorial of\", number, \"is\", result)\n"
   ]
  },
  {
   "cell_type": "code",
   "execution_count": 12,
   "id": "aa486a92",
   "metadata": {},
   "outputs": [
    {
     "name": "stdout",
     "output_type": "stream",
     "text": [
      "Your BMI is: 3.2449972958355873\n"
     ]
    }
   ],
   "source": [
    "##Question no.3\n",
    "\n",
    "def calculate_bmi(weight, height):\n",
    "    bmi = weight / (height ** 2)\n",
    "    return bmi\n",
    "\n",
    "weight = 60\n",
    "height = 4.3\n",
    "\n",
    "bmi_result = calculate_bmi(weight, height)\n",
    "print(\"Your BMI is:\", bmi_result)\n"
   ]
  },
  {
   "cell_type": "code",
   "execution_count": 14,
   "id": "b1288cd5",
   "metadata": {},
   "outputs": [
    {
     "name": "stdout",
     "output_type": "stream",
     "text": [
      "Natural logarithm of 10 is 2.302585092994046\n"
     ]
    }
   ],
   "source": [
    "##Question no.4\n",
    "\n",
    "import math\n",
    "\n",
    "number = 10\n",
    "log_result = math.log(number)\n",
    "print(\"Natural logarithm of\", number, \"is\", log_result)\n"
   ]
  },
  {
   "cell_type": "code",
   "execution_count": 15,
   "id": "65b9deae",
   "metadata": {},
   "outputs": [
    {
     "name": "stdout",
     "output_type": "stream",
     "text": [
      "Cube sum of the first 5 natural numbers is 225\n"
     ]
    }
   ],
   "source": [
    "##Question no.5\n",
    "\n",
    "def cube_sum(n):\n",
    "    result = 0\n",
    "    for i in range(1, n+1):\n",
    "        result += i**3\n",
    "    return result\n",
    "\n",
    "n = 5\n",
    "sum_result = cube_sum(n)\n",
    "print(\"Cube sum of the first\", n, \"natural numbers is\", sum_result)\n"
   ]
  },
  {
   "cell_type": "code",
   "execution_count": null,
   "id": "9186f3b7",
   "metadata": {},
   "outputs": [],
   "source": []
  }
 ],
 "metadata": {
  "kernelspec": {
   "display_name": "Python 3 (ipykernel)",
   "language": "python",
   "name": "python3"
  },
  "language_info": {
   "codemirror_mode": {
    "name": "ipython",
    "version": 3
   },
   "file_extension": ".py",
   "mimetype": "text/x-python",
   "name": "python",
   "nbconvert_exporter": "python",
   "pygments_lexer": "ipython3",
   "version": "3.9.13"
  }
 },
 "nbformat": 4,
 "nbformat_minor": 5
}
