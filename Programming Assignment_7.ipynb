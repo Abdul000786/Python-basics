{
 "cells": [
  {
   "cell_type": "code",
   "execution_count": 10,
   "id": "00a432f2",
   "metadata": {},
   "outputs": [
    {
     "name": "stdout",
     "output_type": "stream",
     "text": [
      "Sum of the array: 15\n"
     ]
    }
   ],
   "source": [
    "##Question no.1\n",
    "\n",
    "def array_sum(arr):\n",
    "    return sum(arr)\n",
    "\n",
    "arr = [1, 2, 3, 4, 5]\n",
    "sum_result = array_sum(arr)\n",
    "print(\"Sum of the array:\", sum_result)\n"
   ]
  },
  {
   "cell_type": "code",
   "execution_count": 9,
   "id": "fadc5d90",
   "metadata": {},
   "outputs": [
    {
     "name": "stdout",
     "output_type": "stream",
     "text": [
      "Largest element in the array: 9\n"
     ]
    }
   ],
   "source": [
    "##Question no.2\n",
    "\n",
    "def find_largest(arr):\n",
    "    return max(arr)\n",
    "\n",
    "arr = [5, 2, 9, 1, 7]\n",
    "largest_element = find_largest(arr)\n",
    "print(\"Largest element in the array:\", largest_element)\n"
   ]
  },
  {
   "cell_type": "code",
   "execution_count": 11,
   "id": "3ee1455f",
   "metadata": {},
   "outputs": [
    {
     "name": "stdout",
     "output_type": "stream",
     "text": [
      "Rotated array: [3, 4, 5, 1, 2]\n"
     ]
    }
   ],
   "source": [
    "##Question no.3\n",
    "\n",
    "def array_rotation(arr, k):\n",
    "    n = len(arr)\n",
    "    k = k % n  \n",
    "    rotated = arr[k:] + arr[:k]\n",
    "    return rotated\n",
    "\n",
    "arr = [1, 2, 3, 4, 5]\n",
    "rotation_steps = 2\n",
    "rotated_array = array_rotation(arr, rotation_steps)\n",
    "print(\"Rotated array:\", rotated_array)\n"
   ]
  },
  {
   "cell_type": "code",
   "execution_count": 15,
   "id": "0a3712a8",
   "metadata": {},
   "outputs": [
    {
     "name": "stdout",
     "output_type": "stream",
     "text": [
      "Result array: [3, 4, 5, 1, 2]\n"
     ]
    }
   ],
   "source": [
    "##Question no.4\n",
    "\n",
    "def split_and_add(arr, k):\n",
    "    n = len(arr)\n",
    "    rotated = arr[k:] + arr[:k]\n",
    "    return rotated\n",
    "\n",
    "array = [1, 2, 3, 4, 5]\n",
    "split_position = 2\n",
    "result_array = split_and_add(array, split_position)\n",
    "print(\"Result array:\", result_array)\n",
    "\n"
   ]
  },
  {
   "cell_type": "code",
   "execution_count": 14,
   "id": "7c21b6fd",
   "metadata": {},
   "outputs": [
    {
     "name": "stdout",
     "output_type": "stream",
     "text": [
      "The array is monotonic.\n"
     ]
    }
   ],
   "source": [
    "##Question no.5\n",
    "\n",
    "def is_monotonic(arr):\n",
    "    increasing = decreasing = True\n",
    "\n",
    "    for i in range(1, len(arr)):\n",
    "        if arr[i] < arr[i - 1]:\n",
    "            increasing = False\n",
    "        if arr[i] > arr[i - 1]:\n",
    "            decreasing = False\n",
    "\n",
    "    return increasing or decreasing\n",
    "\n",
    "array = [1, 2, 3, 4, 5]\n",
    "monotonic_check = is_monotonic(array)\n",
    "if monotonic_check:\n",
    "    print(\"The array is monotonic.\")\n",
    "else:\n",
    "    print(\"The array is not monotonic.\")\n"
   ]
  },
  {
   "cell_type": "code",
   "execution_count": null,
   "id": "c6a9ad55",
   "metadata": {},
   "outputs": [],
   "source": []
  }
 ],
 "metadata": {
  "kernelspec": {
   "display_name": "Python 3 (ipykernel)",
   "language": "python",
   "name": "python3"
  },
  "language_info": {
   "codemirror_mode": {
    "name": "ipython",
    "version": 3
   },
   "file_extension": ".py",
   "mimetype": "text/x-python",
   "name": "python",
   "nbconvert_exporter": "python",
   "pygments_lexer": "ipython3",
   "version": "3.9.13"
  }
 },
 "nbformat": 4,
 "nbformat_minor": 5
}
