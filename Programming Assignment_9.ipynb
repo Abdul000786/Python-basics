{
 "cells": [
  {
   "cell_type": "code",
   "execution_count": 7,
   "id": "50a5bd7f",
   "metadata": {},
   "outputs": [
    {
     "name": "stdout",
     "output_type": "stream",
     "text": [
      "135 is a Disarium number\n"
     ]
    }
   ],
   "source": [
    "##Question no.1\n",
    "\n",
    "def is_disarium_number(num):\n",
    "    digit_count = len(str(num))\n",
    "    sum_of_digits = 0\n",
    "    temp = num\n",
    "\n",
    "    while temp > 0:\n",
    "        digit = temp % 10\n",
    "        sum_of_digits += digit ** digit_count\n",
    "        temp //= 10\n",
    "\n",
    "        digit_count -= 1\n",
    "\n",
    "    return num == sum_of_digits\n",
    "\n",
    "number = 135\n",
    "if is_disarium_number(number):\n",
    "    print(number, \"is a Disarium number\")\n",
    "else:\n",
    "    print(number, \"is not a Disarium number\")\n"
   ]
  },
  {
   "cell_type": "code",
   "execution_count": 8,
   "id": "3bab70e2",
   "metadata": {},
   "outputs": [
    {
     "name": "stdout",
     "output_type": "stream",
     "text": [
      "Disarium numbers between 1 to 100:\n",
      "1\n",
      "2\n",
      "3\n",
      "4\n",
      "5\n",
      "6\n",
      "7\n",
      "8\n",
      "9\n",
      "89\n"
     ]
    }
   ],
   "source": [
    "##Question no.2\n",
    "\n",
    "def is_disarium_number(num):\n",
    "    digit_count = len(str(num))\n",
    "    sum_of_digits = 0\n",
    "    temp = num\n",
    "\n",
    "    while temp > 0:\n",
    "        digit = temp % 10\n",
    "        sum_of_digits += digit ** digit_count\n",
    "        temp //= 10\n",
    "\n",
    "        digit_count -= 1\n",
    "\n",
    "    return num == sum_of_digits\n",
    "\n",
    "print(\"Disarium numbers between 1 to 100:\")\n",
    "for number in range(1, 101):\n",
    "    if is_disarium_number(number):\n",
    "        print(number)\n"
   ]
  },
  {
   "cell_type": "code",
   "execution_count": 9,
   "id": "edb1ff1c",
   "metadata": {},
   "outputs": [
    {
     "name": "stdout",
     "output_type": "stream",
     "text": [
      "19 is a Happy number\n"
     ]
    }
   ],
   "source": [
    "##Question no.3\n",
    "\n",
    "def is_happy_number(num):\n",
    "    seen = set()\n",
    "\n",
    "    while num != 1:\n",
    "        if num in seen:\n",
    "            return False\n",
    "        seen.add(num)\n",
    "\n",
    "        sum_of_squares = 0\n",
    "        while num > 0:\n",
    "            digit = num % 10\n",
    "            sum_of_squares += digit ** 2\n",
    "            num //= 10\n",
    "\n",
    "        num = sum_of_squares\n",
    "\n",
    "    return True\n",
    "\n",
    "number = 19\n",
    "if is_happy_number(number):\n",
    "    print(number, \"is a Happy number\")\n",
    "else:\n",
    "    print(number, \"is not a Happy number\")\n"
   ]
  },
  {
   "cell_type": "code",
   "execution_count": 10,
   "id": "1695764d",
   "metadata": {},
   "outputs": [
    {
     "name": "stdout",
     "output_type": "stream",
     "text": [
      "Happy numbers between 1 and 100:\n",
      "1\n",
      "7\n",
      "10\n",
      "13\n",
      "19\n",
      "23\n",
      "28\n",
      "31\n",
      "32\n",
      "44\n",
      "49\n",
      "68\n",
      "70\n",
      "79\n",
      "82\n",
      "86\n",
      "91\n",
      "94\n",
      "97\n",
      "100\n"
     ]
    }
   ],
   "source": [
    "##Question no.4\n",
    "\n",
    "def is_happy_number(num):\n",
    "    seen = set()\n",
    "\n",
    "    while num != 1:\n",
    "        if num in seen:\n",
    "            return False\n",
    "        seen.add(num)\n",
    "\n",
    "        sum_of_squares = 0\n",
    "        while num > 0:\n",
    "            digit = num % 10\n",
    "            sum_of_squares += digit ** 2\n",
    "            num //= 10\n",
    "\n",
    "        num = sum_of_squares\n",
    "\n",
    "    return True\n",
    "\n",
    "print(\"Happy numbers between 1 and 100:\")\n",
    "for number in range(1, 101):\n",
    "    if is_happy_number(number):\n",
    "        print(number)\n"
   ]
  },
  {
   "cell_type": "code",
   "execution_count": 11,
   "id": "c67aaa49",
   "metadata": {},
   "outputs": [
    {
     "name": "stdout",
     "output_type": "stream",
     "text": [
      "18 is a Harshad number\n"
     ]
    }
   ],
   "source": [
    "##Question no.5\n",
    "\n",
    "def is_harshad_number(num):\n",
    "    digit_sum = sum([int(digit) for digit in str(num)])\n",
    "    return num % digit_sum == 0\n",
    "\n",
    "number = 18\n",
    "if is_harshad_number(number):\n",
    "    print(number, \"is a Harshad number\")\n",
    "else:\n",
    "    print(number, \"is not a Harshad number\")\n"
   ]
  },
  {
   "cell_type": "code",
   "execution_count": 12,
   "id": "0bac3e97",
   "metadata": {},
   "outputs": [
    {
     "name": "stdout",
     "output_type": "stream",
     "text": [
      "Pronic numbers between 1 and 100:\n",
      "2\n",
      "6\n",
      "12\n",
      "20\n",
      "30\n",
      "42\n",
      "56\n",
      "72\n",
      "90\n"
     ]
    }
   ],
   "source": [
    "##Question no.6\n",
    "\n",
    "def is_pronic_number(num):\n",
    "    for i in range(1, int(num/2) + 2):\n",
    "        if i * (i + 1) == num:\n",
    "            return True\n",
    "    return False\n",
    "\n",
    "print(\"Pronic numbers between 1 and 100:\")\n",
    "for number in range(1, 101):\n",
    "    if is_pronic_number(number):\n",
    "        print(number)\n"
   ]
  },
  {
   "cell_type": "code",
   "execution_count": null,
   "id": "401934d3",
   "metadata": {},
   "outputs": [],
   "source": []
  }
 ],
 "metadata": {
  "kernelspec": {
   "display_name": "Python 3 (ipykernel)",
   "language": "python",
   "name": "python3"
  },
  "language_info": {
   "codemirror_mode": {
    "name": "ipython",
    "version": 3
   },
   "file_extension": ".py",
   "mimetype": "text/x-python",
   "name": "python",
   "nbconvert_exporter": "python",
   "pygments_lexer": "ipython3",
   "version": "3.9.13"
  }
 },
 "nbformat": 4,
 "nbformat_minor": 5
}
